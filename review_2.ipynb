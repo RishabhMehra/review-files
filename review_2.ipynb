{
 "cells": [
  {
   "cell_type": "code",
   "execution_count": 111,
   "metadata": {
    "colab": {},
    "colab_type": "code",
    "id": "pFdQq4fTuvDD"
   },
   "outputs": [],
   "source": [
    "import pandas as pd\n",
    "import numpy as np\n",
    "import re\n",
    "\n",
    "import os\n",
    "import gensim\n",
    "from gensim import models\n",
    "from gensim.models import Word2Vec, KeyedVectors\n",
    "\n",
    "\n",
    "from sklearn.linear_model import LogisticRegression\n",
    "from sklearn.svm import SVC, LinearSVC\n",
    "from sklearn.ensemble import RandomForestClassifier\n",
    "from sklearn.neighbors import KNeighborsClassifier\n",
    "from sklearn.naive_bayes import GaussianNB\n",
    "\n",
    "from nltk.corpus import wordnet\n",
    "from nltk.stem import WordNetLemmatizer\n",
    "from nltk.stem import PorterStemmer\n",
    "from nltk.tokenize import sent_tokenize,word_tokenize\n",
    "# Scalers\n",
    "from sklearn.preprocessing import MinMaxScaler\n",
    "from sklearn.preprocessing import StandardScaler\n",
    "from sklearn.utils import shuffle\n",
    "\n",
    "# Models\n",
    "from sklearn.linear_model import LogisticRegression #logistic regression\n",
    "from sklearn.linear_model import Perceptron\n",
    "from sklearn import svm #support vector Machine\n",
    "from sklearn.ensemble import RandomForestClassifier #Random Forest\n",
    "from sklearn.neighbors import KNeighborsClassifier #KNN\n",
    "from sklearn.naive_bayes import GaussianNB #Naive bayes\n",
    "from sklearn.tree import DecisionTreeClassifier #Decision Tree\n",
    "from sklearn.model_selection import train_test_split #training and testing data split\n",
    "from sklearn import metrics #accuracy measure\n",
    "from sklearn.metrics import confusion_matrix #for confusion matrix\n",
    "from sklearn.ensemble import VotingClassifier\n",
    "from sklearn.ensemble import AdaBoostClassifier\n",
    "from sklearn.neural_network import MLPClassifier\n",
    "\n",
    "# Cross-validation\n",
    "from sklearn.model_selection import KFold #for K-fold cross validation\n",
    "from sklearn.model_selection import cross_val_score #score evaluation\n",
    "from sklearn.model_selection import cross_val_predict #prediction\n",
    "from sklearn.model_selection import cross_validate\n",
    "\n",
    "# GridSearchCV\n",
    "from sklearn.model_selection import GridSearchCV\n",
    "\n",
    "#Common Model Algorithms\n",
    "from sklearn import svm, tree, linear_model, neighbors, naive_bayes, ensemble, discriminant_analysis, gaussian_process\n",
    "\n",
    "#Common Model Helpers\n",
    "from sklearn.preprocessing import OneHotEncoder, LabelEncoder\n",
    "from sklearn import feature_selection\n",
    "from sklearn import model_selection\n",
    "from sklearn import metrics"
   ]
  },
  {
   "cell_type": "code",
   "execution_count": null,
   "metadata": {
    "colab": {
     "base_uri": "https://localhost:8080/",
     "height": 40,
     "resources": {
      "http://localhost:8080/nbextensions/google.colab/files.js": {
       "data": "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",
       "headers": [
        [
         "content-type",
         "application/javascript"
        ]
       ],
       "ok": true,
       "status": 200,
       "status_text": ""
      }
     }
    },
    "colab_type": "code",
    "id": "QD1zXGJvvo3D",
    "outputId": "87a4aff6-a42f-499a-ac9a-49f0b12298f2"
   },
   "outputs": [],
   "source": []
  },
  {
   "cell_type": "code",
   "execution_count": 112,
   "metadata": {
    "colab": {},
    "colab_type": "code",
    "id": "KvFnPGRduvDJ"
   },
   "outputs": [],
   "source": [
    "data=pd.read_csv(\"Copy of Project.csv\")"
   ]
  },
  {
   "cell_type": "code",
   "execution_count": 113,
   "metadata": {
    "colab": {
     "base_uri": "https://localhost:8080/",
     "height": 1732
    },
    "colab_type": "code",
    "id": "ydCrIAZmuvDP",
    "outputId": "0f074e06-0088-4c57-9aa5-a52cf45e0e6d"
   },
   "outputs": [
    {
     "data": {
      "text/html": [
       "<div>\n",
       "<style scoped>\n",
       "    .dataframe tbody tr th:only-of-type {\n",
       "        vertical-align: middle;\n",
       "    }\n",
       "\n",
       "    .dataframe tbody tr th {\n",
       "        vertical-align: top;\n",
       "    }\n",
       "\n",
       "    .dataframe thead th {\n",
       "        text-align: right;\n",
       "    }\n",
       "</style>\n",
       "<table border=\"1\" class=\"dataframe\">\n",
       "  <thead>\n",
       "    <tr style=\"text-align: right;\">\n",
       "      <th></th>\n",
       "      <th>Timestamp</th>\n",
       "      <th>Select a Role</th>\n",
       "      <th>1. You have just arrived to the office as an administrative worker at a large accounting firm. It is Monday, 8:30 am, and you have multiple tasks that need to get done before the day is done. Most of the staff in your office are very busy doing other things and will be unable to assist you. Your workday will be over at 2:00 PM.Which of the following tasks would you accomplish first?</th>\n",
       "      <th>2. You are a department manager and you have recently thought of a new procedure that you believe would improve the work process. Some of the employees in your department agree with the change and some do not.One of your employees openly criticizes the idea to your director.</th>\n",
       "      <th>3. At a marketing meeting with your supervisor and the senior marketing manager you find yourself in the midst of a conflict between them. You know that the two do not get along professionally and that they are inconstant disagreement.They are now arguing about strategies for a new campaign, and are asking you to pick a side.</th>\n",
       "      <th>4. \"You have been working as a salesperson for the past year and have consistently achieved great sales numbers. Due to personal reasons, you have recently been unfocused at work and as a result your work performance has declined. Additionally, due to changes in the market, the sales figures of your team have decreased as well.Your director does not seem to be taking the changes in the market into account and is blaming your poor performance on poor leadership on your part. \"</th>\n",
       "      <th>5. \"You've been working in the same place for the past three years and have managed to work your way up. Lately, you have been feeling that you have reached your potential in the company so you start pursuing options for advancing your career in other companies. You are now in the midst of negotiations for a new position. Rumors that you are leaving have spread in your current work place. \"</th>\n",
       "      <th>6. The company you work for is experiencing financial difficulties. You have thought of a creative solution that will enable it to recruit more clients.However, the downside is that the company will have to let go a stable,loyal but not so profitable client (due to a conflict of interest).Two out of three marketing people agree with you while your manager does not because she believes this is too risky.</th>\n",
       "      <th>7. \"A co-worker is undermining you. Currently, he is at a less senior position than you in the company and hasn't been working there for long. However,he is better educated than you and is also considered a fast learner. You know from a third party that he is interested in taking over some of your responsibilities. \"</th>\n",
       "      <th>8. \"You are a department manager. Two members of your staff are long overdue to participate in a professional training course. The training department manager has informed you that she has chosen employees from a different department instead.Relations with the training department are already problematic. \"</th>\n",
       "      <th>...</th>\n",
       "      <th>16. \"In the past month one of your employees has shown a major decline in sales performance. Although the decline has been ongoing for a couple of months, it has been particularly steep during the past two weeks. In addition, she has started coming in late and seems very frustrated with her work. Her behavior is influencing the atmosphere in the office as she is a popular employee and has been working for the company for the past two years. \"</th>\n",
       "      <th>17. \"You are assigned to work on a project along with another co-worker. He has been working in the department longer than you. Since he has no great ambitions or aspirations to develop professionally, he does not put much effort into your mutual project. \"</th>\n",
       "      <th>18. \"You work in a large audit firm as a consultant. There are five additional members in the team, all working under the supervision of a team manager and the department manager above him.Matt, a co-worker in your staff with whom you share an office, needs your advice regarding a report he is about to present at this week's team meeting. These meetings are led by your team manager but the department manager is almost always present, too.Although the part of the report that Matt shows you seems fine, you notice that the numerical analysis in another section of the report is missing important conclusions. You can tell that this section of the report does not adhere to the standards of your department's supervisors.Matt seems to be confident about that part of the report and you get the impression that he is not interested in your opinion about it. \"</th>\n",
       "      <th>19. \"Your organisation has implemented a new performance management system which explicitly links your performance to your pay.Your progression up the pay scale now relies on your proving you have achieved particular levels of performance.\"</th>\n",
       "      <th>20. \"You answer the phone to an irate customer who claims that she has been overcharged.Although you have checked her account and cannot find any problems she remains convinced there has been a mistake and is becoming increasingly angry.\"</th>\n",
       "      <th>21. \"You find a colleague crying in the toilets.\"  How will you react?</th>\n",
       "      <th>22. \"Everyone in your department has received a new computer system except for you.\" What  is your reaction ?</th>\n",
       "      <th>23. You are aware that large amounts of company property have been going missing over the past couple of weeks. You have noticed one of your colleagues putting stationery and other equipment from the office into her bag on a number of occasions and suspect that she is responsible.</th>\n",
       "      <th>24. You are a Project Leader and manage the coordination of four Team Members. Two Team Members won’t be able to meet the deadlines of the project. The Director of the organisation reminds you the importance of meeting deadlines. Which is the most likely course of action you would take?</th>\n",
       "      <th>25. You have been assigned to work on a global project for your employer. You have to work with a member of another Unit. The Head of Unit has determined a fixed plan of action for each step. After a couple of weeks, you notice that your colleague on the project is not following the plan and his contribution is low, which is starting to have a negative effect on the project. Which is the most likely course of action you would take?</th>\n",
       "    </tr>\n",
       "  </thead>\n",
       "  <tbody>\n",
       "    <tr>\n",
       "      <th>0</th>\n",
       "      <td>2019/02/25 7:14:39 PM GMT+5:30</td>\n",
       "      <td>Analyst</td>\n",
       "      <td>You receive an Email indicating an impromptu a...</td>\n",
       "      <td>You reprimand the employee for going over your...</td>\n",
       "      <td>You weigh up the advantages and disadvantages ...</td>\n",
       "      <td>\"You explain your personal situation to the di...</td>\n",
       "      <td>\"Since it is only a rumor, you don't update an...</td>\n",
       "      <td>\"You confront your manager on the issue and in...</td>\n",
       "      <td>\"You call your co-worker in for a talk. You ex...</td>\n",
       "      <td>\"You talk to the training manager and try to u...</td>\n",
       "      <td>...</td>\n",
       "      <td>\"You meet with the employee and explain that h...</td>\n",
       "      <td>\"You reach out to the co-worker, explain your ...</td>\n",
       "      <td>\"You do your best to get him to listen. It may...</td>\n",
       "      <td>Make a note of everything you do which you thi...</td>\n",
       "      <td>Hang up on the customer, you’ve done your best...</td>\n",
       "      <td>Go and give them a big hug and tell them that ...</td>\n",
       "      <td>Assume this is a mistake and speak to your man...</td>\n",
       "      <td>Inform your manager that you suspect your coll...</td>\n",
       "      <td>Discuss with the two Team Members that are hav...</td>\n",
       "      <td>Discuss it with your colleague, ask him the re...</td>\n",
       "    </tr>\n",
       "    <tr>\n",
       "      <th>1</th>\n",
       "      <td>2019/02/25 7:15:34 PM GMT+5:30</td>\n",
       "      <td>Analyst</td>\n",
       "      <td>You receive an Email indicating an impromptu a...</td>\n",
       "      <td>You reprimand the employee for going over your...</td>\n",
       "      <td>You weigh up the advantages and disadvantages ...</td>\n",
       "      <td>\"You explain your personal situation to the di...</td>\n",
       "      <td>Because the rumor is out you update your manag...</td>\n",
       "      <td>\"You implement your proposition despite the ma...</td>\n",
       "      <td>\"You call your co-worker in for a talk. You ex...</td>\n",
       "      <td>\"You contact the manager of the other departme...</td>\n",
       "      <td>...</td>\n",
       "      <td>\"You meet with the employee and explain that h...</td>\n",
       "      <td>\"You reach out to the co-worker, explain your ...</td>\n",
       "      <td>\"You do your best to get him to listen. It may...</td>\n",
       "      <td>Make a note of everything you do which you thi...</td>\n",
       "      <td>Hang up on the customer, you’ve done your best...</td>\n",
       "      <td>Go and give them a big hug and tell them that ...</td>\n",
       "      <td>Assume this is a mistake and speak to your man...</td>\n",
       "      <td>Inform your manager that you suspect your coll...</td>\n",
       "      <td>Discuss with the two Team Members that are hav...</td>\n",
       "      <td>Discuss it with your colleague, ask him the re...</td>\n",
       "    </tr>\n",
       "    <tr>\n",
       "      <th>2</th>\n",
       "      <td>2019/02/25 7:23:31 PM GMT+5:30</td>\n",
       "      <td>Analyst</td>\n",
       "      <td>You receive an Email indicating an impromptu a...</td>\n",
       "      <td>You reprimand the employee for going over your...</td>\n",
       "      <td>You weigh up the advantages and disadvantages ...</td>\n",
       "      <td>\"You explain your personal situation to the di...</td>\n",
       "      <td>Because the rumor is out you update your manag...</td>\n",
       "      <td>\"You confront your manager on the issue and in...</td>\n",
       "      <td>\"Since you do not want to make a \"big deal\" ou...</td>\n",
       "      <td>\"You contact the manager of the other departme...</td>\n",
       "      <td>...</td>\n",
       "      <td>\"You meet with the employee and explain that h...</td>\n",
       "      <td>\"You reach out to the co-worker, explain your ...</td>\n",
       "      <td>\"You do your best to get him to listen. It may...</td>\n",
       "      <td>\"Spend your performance reviews complaining to...</td>\n",
       "      <td>Hang up on the customer, you’ve done your best...</td>\n",
       "      <td>Go and give them a big hug and tell them that ...</td>\n",
       "      <td>Assume this is a mistake and speak to your man...</td>\n",
       "      <td>Inform your manager that you suspect your coll...</td>\n",
       "      <td>Discuss with the two Team Members that are hav...</td>\n",
       "      <td>Discuss it with your colleague, ask him the re...</td>\n",
       "    </tr>\n",
       "    <tr>\n",
       "      <th>3</th>\n",
       "      <td>2019/02/25 7:24:29 PM GMT+5:30</td>\n",
       "      <td>Analyst</td>\n",
       "      <td>You receive an Email indicating an impromptu a...</td>\n",
       "      <td>You reprimand the employee for going over your...</td>\n",
       "      <td>You believe that getting involved in this disp...</td>\n",
       "      <td>\"You explain your personal situation to the di...</td>\n",
       "      <td>\"Since it is only a rumor, you don't update an...</td>\n",
       "      <td>\"You confront your manager on the issue and in...</td>\n",
       "      <td>\"You call your co-worker in for a talk. You ex...</td>\n",
       "      <td>\"You talk to the training manager and try to u...</td>\n",
       "      <td>...</td>\n",
       "      <td>\"You meet with the employee and explain that h...</td>\n",
       "      <td>\"You reach out to the co-worker, explain your ...</td>\n",
       "      <td>\"You do your best to get him to listen. It may...</td>\n",
       "      <td>Make a note of everything you do which you thi...</td>\n",
       "      <td>Hang up on the customer, you’ve done your best...</td>\n",
       "      <td>Go and give them a big hug and tell them that ...</td>\n",
       "      <td>Assume this is a mistake and speak to your man...</td>\n",
       "      <td>Inform your manager that you suspect your coll...</td>\n",
       "      <td>Discuss with the two Team Members that are hav...</td>\n",
       "      <td>Discuss it with your colleague, ask him the re...</td>\n",
       "    </tr>\n",
       "    <tr>\n",
       "      <th>4</th>\n",
       "      <td>2019/02/25 7:25:06 PM GMT+5:30</td>\n",
       "      <td>Analyst</td>\n",
       "      <td>You receive an Email indicating an impromptu a...</td>\n",
       "      <td>You reprimand the employee for going over your...</td>\n",
       "      <td>You weigh up the advantages and disadvantages ...</td>\n",
       "      <td>\"You explain your personal situation to the di...</td>\n",
       "      <td>\"Since it is only a rumor, you don't update an...</td>\n",
       "      <td>\"You confront your manager on the issue and in...</td>\n",
       "      <td>\"You call your co-worker in for a talk. You ex...</td>\n",
       "      <td>\"You talk to the training manager and try to u...</td>\n",
       "      <td>...</td>\n",
       "      <td>\"You meet with the employee and explain that h...</td>\n",
       "      <td>\"You reach out to the co-worker, explain your ...</td>\n",
       "      <td>\"You do your best to get him to listen. It may...</td>\n",
       "      <td>Make a note of everything you do which you thi...</td>\n",
       "      <td>Hang up on the customer, you’ve done your best...</td>\n",
       "      <td>Go and give them a big hug and tell them that ...</td>\n",
       "      <td>Assume this is a mistake and speak to your man...</td>\n",
       "      <td>Inform your manager that you suspect your coll...</td>\n",
       "      <td>Discuss with the two Team Members that are hav...</td>\n",
       "      <td>Discuss it with your colleague, ask him the re...</td>\n",
       "    </tr>\n",
       "  </tbody>\n",
       "</table>\n",
       "<p>5 rows × 27 columns</p>\n",
       "</div>"
      ],
      "text/plain": [
       "                        Timestamp Select a Role  \\\n",
       "0  2019/02/25 7:14:39 PM GMT+5:30       Analyst   \n",
       "1  2019/02/25 7:15:34 PM GMT+5:30       Analyst   \n",
       "2  2019/02/25 7:23:31 PM GMT+5:30       Analyst   \n",
       "3  2019/02/25 7:24:29 PM GMT+5:30       Analyst   \n",
       "4  2019/02/25 7:25:06 PM GMT+5:30       Analyst   \n",
       "\n",
       "  1. You have just arrived to the office as an administrative worker at a large accounting firm. It is Monday, 8:30 am, and you have multiple tasks that need to get done before the day is done. Most of the staff in your office are very busy doing other things and will be unable to assist you. Your workday will be over at 2:00 PM.Which of the following tasks would you accomplish first?   \\\n",
       "0  You receive an Email indicating an impromptu a...                                                                                                                                                                                                                                                                                                                                                   \n",
       "1  You receive an Email indicating an impromptu a...                                                                                                                                                                                                                                                                                                                                                   \n",
       "2  You receive an Email indicating an impromptu a...                                                                                                                                                                                                                                                                                                                                                   \n",
       "3  You receive an Email indicating an impromptu a...                                                                                                                                                                                                                                                                                                                                                   \n",
       "4  You receive an Email indicating an impromptu a...                                                                                                                                                                                                                                                                                                                                                   \n",
       "\n",
       "  2. You are a department manager and you have recently thought of a new procedure that you believe would improve the work process. Some of the employees in your department agree with the change and some do not.One of your employees openly criticizes the idea to your director.   \\\n",
       "0  You reprimand the employee for going over your...                                                                                                                                                                                                                                     \n",
       "1  You reprimand the employee for going over your...                                                                                                                                                                                                                                     \n",
       "2  You reprimand the employee for going over your...                                                                                                                                                                                                                                     \n",
       "3  You reprimand the employee for going over your...                                                                                                                                                                                                                                     \n",
       "4  You reprimand the employee for going over your...                                                                                                                                                                                                                                     \n",
       "\n",
       "  3. At a marketing meeting with your supervisor and the senior marketing manager you find yourself in the midst of a conflict between them. You know that the two do not get along professionally and that they are inconstant disagreement.They are now arguing about strategies for a new campaign, and are asking you to pick a side.   \\\n",
       "0  You weigh up the advantages and disadvantages ...                                                                                                                                                                                                                                                                                         \n",
       "1  You weigh up the advantages and disadvantages ...                                                                                                                                                                                                                                                                                         \n",
       "2  You weigh up the advantages and disadvantages ...                                                                                                                                                                                                                                                                                         \n",
       "3  You believe that getting involved in this disp...                                                                                                                                                                                                                                                                                         \n",
       "4  You weigh up the advantages and disadvantages ...                                                                                                                                                                                                                                                                                         \n",
       "\n",
       "  4. \"You have been working as a salesperson for the past year and have consistently achieved great sales numbers. Due to personal reasons, you have recently been unfocused at work and as a result your work performance has declined. Additionally, due to changes in the market, the sales figures of your team have decreased as well.Your director does not seem to be taking the changes in the market into account and is blaming your poor performance on poor leadership on your part. \"  \\\n",
       "0  \"You explain your personal situation to the di...                                                                                                                                                                                                                                                                                                                                                                                                                                                 \n",
       "1  \"You explain your personal situation to the di...                                                                                                                                                                                                                                                                                                                                                                                                                                                 \n",
       "2  \"You explain your personal situation to the di...                                                                                                                                                                                                                                                                                                                                                                                                                                                 \n",
       "3  \"You explain your personal situation to the di...                                                                                                                                                                                                                                                                                                                                                                                                                                                 \n",
       "4  \"You explain your personal situation to the di...                                                                                                                                                                                                                                                                                                                                                                                                                                                 \n",
       "\n",
       "  5. \"You've been working in the same place for the past three years and have managed to work your way up. Lately, you have been feeling that you have reached your potential in the company so you start pursuing options for advancing your career in other companies. You are now in the midst of negotiations for a new position. Rumors that you are leaving have spread in your current work place. \"  \\\n",
       "0  \"Since it is only a rumor, you don't update an...                                                                                                                                                                                                                                                                                                                                                          \n",
       "1  Because the rumor is out you update your manag...                                                                                                                                                                                                                                                                                                                                                          \n",
       "2  Because the rumor is out you update your manag...                                                                                                                                                                                                                                                                                                                                                          \n",
       "3  \"Since it is only a rumor, you don't update an...                                                                                                                                                                                                                                                                                                                                                          \n",
       "4  \"Since it is only a rumor, you don't update an...                                                                                                                                                                                                                                                                                                                                                          \n",
       "\n",
       "  6. The company you work for is experiencing financial difficulties. You have thought of a creative solution that will enable it to recruit more clients.However, the downside is that the company will have to let go a stable,loyal but not so profitable client (due to a conflict of interest).Two out of three marketing people agree with you while your manager does not because she believes this is too risky.   \\\n",
       "0  \"You confront your manager on the issue and in...                                                                                                                                                                                                                                                                                                                                                                        \n",
       "1  \"You implement your proposition despite the ma...                                                                                                                                                                                                                                                                                                                                                                        \n",
       "2  \"You confront your manager on the issue and in...                                                                                                                                                                                                                                                                                                                                                                        \n",
       "3  \"You confront your manager on the issue and in...                                                                                                                                                                                                                                                                                                                                                                        \n",
       "4  \"You confront your manager on the issue and in...                                                                                                                                                                                                                                                                                                                                                                        \n",
       "\n",
       "  7. \"A co-worker is undermining you. Currently, he is at a less senior position than you in the company and hasn't been working there for long. However,he is better educated than you and is also considered a fast learner. You know from a third party that he is interested in taking over some of your responsibilities. \"  \\\n",
       "0  \"You call your co-worker in for a talk. You ex...                                                                                                                                                                                                                                                                               \n",
       "1  \"You call your co-worker in for a talk. You ex...                                                                                                                                                                                                                                                                               \n",
       "2  \"Since you do not want to make a \"big deal\" ou...                                                                                                                                                                                                                                                                               \n",
       "3  \"You call your co-worker in for a talk. You ex...                                                                                                                                                                                                                                                                               \n",
       "4  \"You call your co-worker in for a talk. You ex...                                                                                                                                                                                                                                                                               \n",
       "\n",
       "  8. \"You are a department manager. Two members of your staff are long overdue to participate in a professional training course. The training department manager has informed you that she has chosen employees from a different department instead.Relations with the training department are already problematic. \"  \\\n",
       "0  \"You talk to the training manager and try to u...                                                                                                                                                                                                                                                                    \n",
       "1  \"You contact the manager of the other departme...                                                                                                                                                                                                                                                                    \n",
       "2  \"You contact the manager of the other departme...                                                                                                                                                                                                                                                                    \n",
       "3  \"You talk to the training manager and try to u...                                                                                                                                                                                                                                                                    \n",
       "4  \"You talk to the training manager and try to u...                                                                                                                                                                                                                                                                    \n",
       "\n",
       "   ...  \\\n",
       "0  ...   \n",
       "1  ...   \n",
       "2  ...   \n",
       "3  ...   \n",
       "4  ...   \n",
       "\n",
       "  16. \"In the past month one of your employees has shown a major decline in sales performance. Although the decline has been ongoing for a couple of months, it has been particularly steep during the past two weeks. In addition, she has started coming in late and seems very frustrated with her work. Her behavior is influencing the atmosphere in the office as she is a popular employee and has been working for the company for the past two years. \"  \\\n",
       "0  \"You meet with the employee and explain that h...                                                                                                                                                                                                                                                                                                                                                                                                               \n",
       "1  \"You meet with the employee and explain that h...                                                                                                                                                                                                                                                                                                                                                                                                               \n",
       "2  \"You meet with the employee and explain that h...                                                                                                                                                                                                                                                                                                                                                                                                               \n",
       "3  \"You meet with the employee and explain that h...                                                                                                                                                                                                                                                                                                                                                                                                               \n",
       "4  \"You meet with the employee and explain that h...                                                                                                                                                                                                                                                                                                                                                                                                               \n",
       "\n",
       "  17. \"You are assigned to work on a project along with another co-worker. He has been working in the department longer than you. Since he has no great ambitions or aspirations to develop professionally, he does not put much effort into your mutual project. \"  \\\n",
       "0  \"You reach out to the co-worker, explain your ...                                                                                                                                                                                                                  \n",
       "1  \"You reach out to the co-worker, explain your ...                                                                                                                                                                                                                  \n",
       "2  \"You reach out to the co-worker, explain your ...                                                                                                                                                                                                                  \n",
       "3  \"You reach out to the co-worker, explain your ...                                                                                                                                                                                                                  \n",
       "4  \"You reach out to the co-worker, explain your ...                                                                                                                                                                                                                  \n",
       "\n",
       "  18. \"You work in a large audit firm as a consultant. There are five additional members in the team, all working under the supervision of a team manager and the department manager above him.Matt, a co-worker in your staff with whom you share an office, needs your advice regarding a report he is about to present at this week's team meeting. These meetings are led by your team manager but the department manager is almost always present, too.Although the part of the report that Matt shows you seems fine, you notice that the numerical analysis in another section of the report is missing important conclusions. You can tell that this section of the report does not adhere to the standards of your department's supervisors.Matt seems to be confident about that part of the report and you get the impression that he is not interested in your opinion about it. \"  \\\n",
       "0  \"You do your best to get him to listen. It may...                                                                                                                                                                                                                                                                                                                                                                                                                                                                                                                                                                                                                                                                                                                                                                                                                                             \n",
       "1  \"You do your best to get him to listen. It may...                                                                                                                                                                                                                                                                                                                                                                                                                                                                                                                                                                                                                                                                                                                                                                                                                                             \n",
       "2  \"You do your best to get him to listen. It may...                                                                                                                                                                                                                                                                                                                                                                                                                                                                                                                                                                                                                                                                                                                                                                                                                                             \n",
       "3  \"You do your best to get him to listen. It may...                                                                                                                                                                                                                                                                                                                                                                                                                                                                                                                                                                                                                                                                                                                                                                                                                                             \n",
       "4  \"You do your best to get him to listen. It may...                                                                                                                                                                                                                                                                                                                                                                                                                                                                                                                                                                                                                                                                                                                                                                                                                                             \n",
       "\n",
       "  19. \"Your organisation has implemented a new performance management system which explicitly links your performance to your pay.Your progression up the pay scale now relies on your proving you have achieved particular levels of performance.\"  \\\n",
       "0  Make a note of everything you do which you thi...                                                                                                                                                                                                 \n",
       "1  Make a note of everything you do which you thi...                                                                                                                                                                                                 \n",
       "2  \"Spend your performance reviews complaining to...                                                                                                                                                                                                 \n",
       "3  Make a note of everything you do which you thi...                                                                                                                                                                                                 \n",
       "4  Make a note of everything you do which you thi...                                                                                                                                                                                                 \n",
       "\n",
       "  20. \"You answer the phone to an irate customer who claims that she has been overcharged.Although you have checked her account and cannot find any problems she remains convinced there has been a mistake and is becoming increasingly angry.\"  \\\n",
       "0  Hang up on the customer, you’ve done your best...                                                                                                                                                                                               \n",
       "1  Hang up on the customer, you’ve done your best...                                                                                                                                                                                               \n",
       "2  Hang up on the customer, you’ve done your best...                                                                                                                                                                                               \n",
       "3  Hang up on the customer, you’ve done your best...                                                                                                                                                                                               \n",
       "4  Hang up on the customer, you’ve done your best...                                                                                                                                                                                               \n",
       "\n",
       "  21. \"You find a colleague crying in the toilets.\"  How will you react?  \\\n",
       "0  Go and give them a big hug and tell them that ...                       \n",
       "1  Go and give them a big hug and tell them that ...                       \n",
       "2  Go and give them a big hug and tell them that ...                       \n",
       "3  Go and give them a big hug and tell them that ...                       \n",
       "4  Go and give them a big hug and tell them that ...                       \n",
       "\n",
       "  22. \"Everyone in your department has received a new computer system except for you.\" What  is your reaction ?  \\\n",
       "0  Assume this is a mistake and speak to your man...                                                              \n",
       "1  Assume this is a mistake and speak to your man...                                                              \n",
       "2  Assume this is a mistake and speak to your man...                                                              \n",
       "3  Assume this is a mistake and speak to your man...                                                              \n",
       "4  Assume this is a mistake and speak to your man...                                                              \n",
       "\n",
       "  23. You are aware that large amounts of company property have been going missing over the past couple of weeks. You have noticed one of your colleagues putting stationery and other equipment from the office into her bag on a number of occasions and suspect that she is responsible.  \\\n",
       "0  Inform your manager that you suspect your coll...                                                                                                                                                                                                                                          \n",
       "1  Inform your manager that you suspect your coll...                                                                                                                                                                                                                                          \n",
       "2  Inform your manager that you suspect your coll...                                                                                                                                                                                                                                          \n",
       "3  Inform your manager that you suspect your coll...                                                                                                                                                                                                                                          \n",
       "4  Inform your manager that you suspect your coll...                                                                                                                                                                                                                                          \n",
       "\n",
       "  24. You are a Project Leader and manage the coordination of four Team Members. Two Team Members won’t be able to meet the deadlines of the project. The Director of the organisation reminds you the importance of meeting deadlines. Which is the most likely course of action you would take?  \\\n",
       "0  Discuss with the two Team Members that are hav...                                                                                                                                                                                                                                                \n",
       "1  Discuss with the two Team Members that are hav...                                                                                                                                                                                                                                                \n",
       "2  Discuss with the two Team Members that are hav...                                                                                                                                                                                                                                                \n",
       "3  Discuss with the two Team Members that are hav...                                                                                                                                                                                                                                                \n",
       "4  Discuss with the two Team Members that are hav...                                                                                                                                                                                                                                                \n",
       "\n",
       "  25. You have been assigned to work on a global project for your employer. You have to work with a member of another Unit. The Head of Unit has determined a fixed plan of action for each step. After a couple of weeks, you notice that your colleague on the project is not following the plan and his contribution is low, which is starting to have a negative effect on the project. Which is the most likely course of action you would take?  \n",
       "0  Discuss it with your colleague, ask him the re...                                                                                                                                                                                                                                                                                                                                                                                                   \n",
       "1  Discuss it with your colleague, ask him the re...                                                                                                                                                                                                                                                                                                                                                                                                   \n",
       "2  Discuss it with your colleague, ask him the re...                                                                                                                                                                                                                                                                                                                                                                                                   \n",
       "3  Discuss it with your colleague, ask him the re...                                                                                                                                                                                                                                                                                                                                                                                                   \n",
       "4  Discuss it with your colleague, ask him the re...                                                                                                                                                                                                                                                                                                                                                                                                   \n",
       "\n",
       "[5 rows x 27 columns]"
      ]
     },
     "execution_count": 113,
     "metadata": {},
     "output_type": "execute_result"
    }
   ],
   "source": [
    "data.head()"
   ]
  },
  {
   "cell_type": "code",
   "execution_count": 114,
   "metadata": {
    "colab": {},
    "colab_type": "code",
    "id": "Pqr1jCIUuvDV"
   },
   "outputs": [],
   "source": [
    "del data['Timestamp']\n"
   ]
  },
  {
   "cell_type": "code",
   "execution_count": 115,
   "metadata": {
    "colab": {
     "base_uri": "https://localhost:8080/",
     "height": 85
    },
    "colab_type": "code",
    "id": "zDGObt3wuvDZ",
    "outputId": "d8859c51-5b9d-4590-9911-21ef44fecc00"
   },
   "outputs": [
    {
     "data": {
      "text/plain": [
       "array(['You receive an Email indicating an impromptu administrative staff meeting starting in 15 minutes.',\n",
       "       'There are 17 purchase orders to review for completeness. These orders need to be finished by the end of the week.',\n",
       "       'You receive a note indicating a personal talk with an HR specialist to discuss your work environment between 10:15AM-12:30PM.'],\n",
       "      dtype=object)"
      ]
     },
     "execution_count": 115,
     "metadata": {},
     "output_type": "execute_result"
    }
   ],
   "source": [
    "data['1. You have just arrived to the office as an administrative worker at a large accounting firm. It is Monday, 8:30 am, and you have multiple tasks that need to get done before the day is done. Most of the staff in your office are very busy doing other things and will be unable to assist you. Your workday will be over at 2:00 PM.Which of the following tasks would you accomplish first? '].unique()"
   ]
  },
  {
   "cell_type": "code",
   "execution_count": 116,
   "metadata": {
    "colab": {
     "base_uri": "https://localhost:8080/",
     "height": 105
    },
    "colab_type": "code",
    "id": "nJTzT7Q7uvDf",
    "outputId": "de2abb4f-fab3-4f38-be61-1b7cc27b0635"
   },
   "outputs": [
    {
     "data": {
      "text/plain": [
       "You receive an Email indicating an impromptu administrative staff meeting starting in 15 minutes.                                392\n",
       "There are 17 purchase orders to review for completeness. These orders need to be finished by the end of the week.                  6\n",
       "You receive a note indicating a personal talk with an HR specialist to discuss your work environment between 10:15AM-12:30PM.      2\n",
       "Name: 1. You have just arrived to the office as an administrative worker at a large accounting firm. It is Monday, 8:30 am, and you have multiple tasks that need to get done before the day is done. Most of the staff in your office are very busy doing other things and will be unable to assist you. Your workday will be over at 2:00 PM.Which of the following tasks would you accomplish first? , dtype: int64"
      ]
     },
     "execution_count": 116,
     "metadata": {},
     "output_type": "execute_result"
    }
   ],
   "source": [
    "data['1. You have just arrived to the office as an administrative worker at a large accounting firm. It is Monday, 8:30 am, and you have multiple tasks that need to get done before the day is done. Most of the staff in your office are very busy doing other things and will be unable to assist you. Your workday will be over at 2:00 PM.Which of the following tasks would you accomplish first? '].value_counts()"
   ]
  },
  {
   "cell_type": "code",
   "execution_count": 117,
   "metadata": {
    "colab": {},
    "colab_type": "code",
    "id": "p9SZkt1CuvDk"
   },
   "outputs": [],
   "source": [
    "def coding(col, codeDict):\n",
    "  colCoded = pd.Series(col, copy=True)\n",
    "  for key, value in codeDict.items():\n",
    "    colCoded.replace(key, value, inplace=True)\n",
    "  return colCoded\n",
    "\n",
    "\n",
    "data[\"1_Coded\"] = coding(data[\"1. You have just arrived to the office as an administrative worker at a large accounting firm. It is Monday, 8:30 am, and you have multiple tasks that need to get done before the day is done. Most of the staff in your office are very busy doing other things and will be unable to assist you. Your workday will be over at 2:00 PM.Which of the following tasks would you accomplish first? \"], {'You receive an Email indicating an impromptu administrative staff meeting starting in 15 minutes.':0,'There are 17 purchase orders to review for completeness. These orders need to be finished by the end of the week.':1,'You receive a note indicating a personal talk with an HR specialist to discuss your work environment between 10:15AM-12:30PM.':2})"
   ]
  },
  {
   "cell_type": "code",
   "execution_count": 118,
   "metadata": {
    "colab": {
     "base_uri": "https://localhost:8080/",
     "height": 85
    },
    "colab_type": "code",
    "id": "uIiRlqf8uvDn",
    "outputId": "1da1ed45-7eb0-481d-8a86-da6b380e5d3d"
   },
   "outputs": [
    {
     "data": {
      "text/plain": [
       "0    392\n",
       "1      6\n",
       "2      2\n",
       "Name: 1_Coded, dtype: int64"
      ]
     },
     "execution_count": 118,
     "metadata": {},
     "output_type": "execute_result"
    }
   ],
   "source": [
    "data['1_Coded'].value_counts()"
   ]
  },
  {
   "cell_type": "code",
   "execution_count": 119,
   "metadata": {
    "colab": {
     "base_uri": "https://localhost:8080/",
     "height": 88
    },
    "colab_type": "code",
    "id": "0WX4TIL8uvDt",
    "outputId": "abfd5c00-dbda-4fa0-d761-2e35811a3b48"
   },
   "outputs": [
    {
     "data": {
      "text/plain": [
       "You reprimand the employee for going over your head to the director and work to promote your idea with even more enthusiasm          397\n",
       "Employees' trust in their manager is important so you decide to implement only some of the changes to keep my employees satisfied      3\n",
       "Name: 2. You are a department manager and you have recently thought of a new procedure that you believe would improve the work process. Some of the employees in your department agree with the change and some do not.One of your employees openly criticizes the idea to your director. , dtype: int64"
      ]
     },
     "execution_count": 119,
     "metadata": {},
     "output_type": "execute_result"
    }
   ],
   "source": [
    "data['2. You are a department manager and you have recently thought of a new procedure that you believe would improve the work process. Some of the employees in your department agree with the change and some do not.One of your employees openly criticizes the idea to your director. '].value_counts()"
   ]
  },
  {
   "cell_type": "code",
   "execution_count": 120,
   "metadata": {
    "colab": {},
    "colab_type": "code",
    "id": "DBxDeMwKuvD3"
   },
   "outputs": [],
   "source": [
    "data[\"2_coded\"]=coding(data[\"2. You are a department manager and you have recently thought of a new procedure that you believe would improve the work process. Some of the employees in your department agree with the change and some do not.One of your employees openly criticizes the idea to your director. \"],{'You reprimand the employee for going over your head to the director and work to promote your idea with even more enthusiasm':0,\"Employees' trust in their manager is important so you decide to implement only some of the changes to keep my employees satisfie\":1})"
   ]
  },
  {
   "cell_type": "code",
   "execution_count": 121,
   "metadata": {
    "colab": {
     "base_uri": "https://localhost:8080/",
     "height": 68
    },
    "colab_type": "code",
    "id": "szLFBz8kuvD6",
    "outputId": "9dc172c2-a73b-4243-b6d8-6a40f96fc639"
   },
   "outputs": [
    {
     "data": {
      "text/plain": [
       "0                                                                                                                                    397\n",
       "Employees' trust in their manager is important so you decide to implement only some of the changes to keep my employees satisfied      3\n",
       "Name: 2_coded, dtype: int64"
      ]
     },
     "execution_count": 121,
     "metadata": {},
     "output_type": "execute_result"
    }
   ],
   "source": [
    "data['2_coded'].value_counts()"
   ]
  },
  {
   "cell_type": "code",
   "execution_count": 122,
   "metadata": {
    "colab": {},
    "colab_type": "code",
    "id": "PReZqqHQuvD_"
   },
   "outputs": [],
   "source": [
    "del data['2_coded']"
   ]
  },
  {
   "cell_type": "code",
   "execution_count": 123,
   "metadata": {
    "colab": {},
    "colab_type": "code",
    "id": "kXBryPFYuvEC"
   },
   "outputs": [],
   "source": [
    "data[\"2_coded\"]=coding(data[\"2. You are a department manager and you have recently thought of a new procedure that you believe would improve the work process. Some of the employees in your department agree with the change and some do not.One of your employees openly criticizes the idea to your director. \"],{'You reprimand the employee for going over your head to the director and work to promote your idea with even more enthusiasm':0,\"Employees' trust in their manager is important so you decide to implement only some of the changes to keep my employees satisfied\":1})"
   ]
  },
  {
   "cell_type": "code",
   "execution_count": 124,
   "metadata": {
    "colab": {
     "base_uri": "https://localhost:8080/",
     "height": 68
    },
    "colab_type": "code",
    "id": "6d_skpKQuvEF",
    "outputId": "1cce5b7a-106c-46d3-b466-6eec1d3dbf57"
   },
   "outputs": [
    {
     "data": {
      "text/plain": [
       "0    397\n",
       "1      3\n",
       "Name: 2_coded, dtype: int64"
      ]
     },
     "execution_count": 124,
     "metadata": {},
     "output_type": "execute_result"
    }
   ],
   "source": [
    "data['2_coded'].value_counts()"
   ]
  },
  {
   "cell_type": "code",
   "execution_count": 125,
   "metadata": {
    "colab": {
     "base_uri": "https://localhost:8080/",
     "height": 105
    },
    "colab_type": "code",
    "id": "V-P0u5TyuvEN",
    "outputId": "a29a91f9-726d-43ee-aaa9-1f484554a18d"
   },
   "outputs": [
    {
     "data": {
      "text/plain": [
       "You weigh up the advantages and disadvantages of each side and decide accordingly without getting involved in their personal conflict                                                                        392\n",
       "You believe that getting involved in this dispute would be detrimental to you as both sides are superior to you. Therefore, you refuse to pick a side saying that both strategies are equally successful.      7\n",
       "You accept the idea of your supervisor. Since he is directly above you, he has more influence on your daily routine in the company and therefore it is politically wiser to support him.                       1\n",
       "Name: 3. At a marketing meeting with your supervisor and the senior marketing manager you find yourself in the midst of a conflict between them. You know that the two do not get along professionally and that they are inconstant disagreement.They are now arguing about strategies for a new campaign, and are asking you to pick a side. , dtype: int64"
      ]
     },
     "execution_count": 125,
     "metadata": {},
     "output_type": "execute_result"
    }
   ],
   "source": [
    "data['3. At a marketing meeting with your supervisor and the senior marketing manager you find yourself in the midst of a conflict between them. You know that the two do not get along professionally and that they are inconstant disagreement.They are now arguing about strategies for a new campaign, and are asking you to pick a side. '].value_counts()"
   ]
  },
  {
   "cell_type": "code",
   "execution_count": 126,
   "metadata": {
    "colab": {},
    "colab_type": "code",
    "id": "MpdkOSGJuvET"
   },
   "outputs": [],
   "source": [
    "data['3_coded']= coding(data['3. At a marketing meeting with your supervisor and the senior marketing manager you find yourself in the midst of a conflict between them. You know that the two do not get along professionally and that they are inconstant disagreement.They are now arguing about strategies for a new campaign, and are asking you to pick a side. '],{'You weigh up the advantages and disadvantages of each side and decide accordingly without getting involved in their personal conflict':0,'You believe that getting involved in this dispute would be detrimental to you as both sides are superior to you. Therefore, you refuse to pick a side saying that both strategies are equally successful.':1,'You accept the idea of your supervisor. Since he is directly above you, he has more influence on your daily routine in the company and therefore it is politically wiser to support him.':2})"
   ]
  },
  {
   "cell_type": "code",
   "execution_count": 127,
   "metadata": {
    "colab": {
     "base_uri": "https://localhost:8080/",
     "height": 85
    },
    "colab_type": "code",
    "id": "IYAgmvjGuvEW",
    "outputId": "de6fda3c-838d-4592-e578-4c8cf625b7f4"
   },
   "outputs": [
    {
     "data": {
      "text/plain": [
       "0    392\n",
       "1      7\n",
       "2      1\n",
       "Name: 3_coded, dtype: int64"
      ]
     },
     "execution_count": 127,
     "metadata": {},
     "output_type": "execute_result"
    }
   ],
   "source": [
    "data['3_coded'].value_counts()"
   ]
  },
  {
   "cell_type": "code",
   "execution_count": 128,
   "metadata": {
    "colab": {
     "base_uri": "https://localhost:8080/",
     "height": 88
    },
    "colab_type": "code",
    "id": "RJhGpiF7uvEc",
    "outputId": "a255845c-e6d6-4d57-d31d-38385feb9868"
   },
   "outputs": [
    {
     "data": {
      "text/plain": [
       "\"You explain your personal situation to the director and apologise for the decline in the performance of my team. You ask to take a few days off to recuperate\"    398\n",
       "\"You scold your team members for their poor performance and set new, more attainable sales targets in line with the changes in the market.\"                          2\n",
       "Name: 4. \"You have been working as a salesperson for the past year and have consistently achieved great sales numbers. Due to personal reasons, you have recently been unfocused at work and as a result your work performance has declined. Additionally, due to changes in the market, the sales figures of your team have decreased as well.Your director does not seem to be taking the changes in the market into account and is blaming your poor performance on poor leadership on your part. \", dtype: int64"
      ]
     },
     "execution_count": 128,
     "metadata": {},
     "output_type": "execute_result"
    }
   ],
   "source": [
    "data['4. \"You have been working as a salesperson for the past year and have consistently achieved great sales numbers. Due to personal reasons, you have recently been unfocused at work and as a result your work performance has declined. Additionally, due to changes in the market, the sales figures of your team have decreased as well.Your director does not seem to be taking the changes in the market into account and is blaming your poor performance on poor leadership on your part. \"'].value_counts()"
   ]
  },
  {
   "cell_type": "code",
   "execution_count": 129,
   "metadata": {
    "colab": {},
    "colab_type": "code",
    "id": "Cdu3nZpCuvEh"
   },
   "outputs": [],
   "source": [
    "data[\"4_coded\"]=coding(data[\"4. \\\"You have been working as a salesperson for the past year and have consistently achieved great sales numbers. Due to personal reasons, you have recently been unfocused at work and as a result your work performance has declined. Additionally, due to changes in the market, the sales figures of your team have decreased as well.Your director does not seem to be taking the changes in the market into account and is blaming your poor performance on poor leadership on your part. \\\"\"],{'\"You explain your personal situation to the director and apologise for the decline in the performance of my team. You ask to take a few days off to recuperate\"':0,'\"You scold your team members for their poor performance and set new, more attainable sales targets in line with the changes in the market.\"':1,})"
   ]
  },
  {
   "cell_type": "code",
   "execution_count": 130,
   "metadata": {
    "colab": {
     "base_uri": "https://localhost:8080/",
     "height": 68
    },
    "colab_type": "code",
    "id": "TuFl_C4yuvEk",
    "outputId": "626ce225-1ea9-492e-8dc9-a9100b39081a"
   },
   "outputs": [
    {
     "data": {
      "text/plain": [
       "0    398\n",
       "1      2\n",
       "Name: 4_coded, dtype: int64"
      ]
     },
     "execution_count": 130,
     "metadata": {},
     "output_type": "execute_result"
    }
   ],
   "source": [
    "data['4_coded'].value_counts()"
   ]
  },
  {
   "cell_type": "code",
   "execution_count": 131,
   "metadata": {
    "colab": {
     "base_uri": "https://localhost:8080/",
     "height": 105
    },
    "colab_type": "code",
    "id": "Gmid6CphuvEo",
    "outputId": "15a47c20-84a2-4f37-fbeb-01f9e845c0c5"
   },
   "outputs": [
    {
     "data": {
      "text/plain": [
       "\"Since it is only a rumor, you don't update anyone until you actually hand in your notice. Nothing has been decided yet. \"                                          386\n",
       "Because the rumor is out you update your manager and only him about your intention of leaving. Since you are still an employee there, you keep working normally.     13\n",
       "\"Since the rumour is already out and you will probably leave, you invest a little less in your work and a bit more in attaining the new position.\"                    1\n",
       "Name: 5. \"You've been working in the same place for the past three years and have managed to work your way up. Lately, you have been feeling that you have reached your potential in the company so you start pursuing options for advancing your career in other companies. You are now in the midst of negotiations for a new position. Rumors that you are leaving have spread in your current work place. \", dtype: int64"
      ]
     },
     "execution_count": 131,
     "metadata": {},
     "output_type": "execute_result"
    }
   ],
   "source": [
    "data['5. \"You\\'ve been working in the same place for the past three years and have managed to work your way up. Lately, you have been feeling that you have reached your potential in the company so you start pursuing options for advancing your career in other companies. You are now in the midst of negotiations for a new position. Rumors that you are leaving have spread in your current work place. \"'].value_counts()"
   ]
  },
  {
   "cell_type": "code",
   "execution_count": 132,
   "metadata": {
    "colab": {
     "base_uri": "https://localhost:8080/",
     "height": 34
    },
    "colab_type": "code",
    "id": "cwvgNZIfuvEt",
    "outputId": "ad1bc2b2-8cc8-444b-c71b-98e222ebc21f"
   },
   "outputs": [
    {
     "data": {
      "text/plain": [
       "\"Since it is only a rumor, you don't update anyone until you actually hand in your notice. Nothing has been decided yet. \""
      ]
     },
     "execution_count": 132,
     "metadata": {},
     "output_type": "execute_result"
    }
   ],
   "source": [
    "a=\"Since it is only a rumor, you don't update anyone until you actually hand in your notice. Nothing has been decided yet. \"\n",
    "a"
   ]
  },
  {
   "cell_type": "code",
   "execution_count": 133,
   "metadata": {
    "colab": {},
    "colab_type": "code",
    "id": "mSPn1J-AuvEz"
   },
   "outputs": [],
   "source": [
    "\n",
    "data['5_coded']= coding(data['5. \"You\\'ve been working in the same place for the past three years and have managed to work your way up. Lately, you have been feeling that you have reached your potential in the company so you start pursuing options for advancing your career in other companies. You are now in the midst of negotiations for a new position. Rumors that you are leaving have spread in your current work place. \"'],{a:0,'Because the rumor is out you update your manager and only him about your intention of leaving. Since you are still an employee there, you keep working normally.':1,'\"Since the rumour is already out and you will probably leave, you invest a little less in your work and a bit more in attaining the new position.\"':2})"
   ]
  },
  {
   "cell_type": "code",
   "execution_count": 134,
   "metadata": {
    "colab": {
     "base_uri": "https://localhost:8080/",
     "height": 85
    },
    "colab_type": "code",
    "id": "9R-cJZWmuvE2",
    "outputId": "8fcd36f3-8097-42c6-91e5-d247f565077a"
   },
   "outputs": [
    {
     "data": {
      "text/plain": [
       "\"Since it is only a rumor, you don't update anyone until you actually hand in your notice. Nothing has been decided yet. \"    386\n",
       "1                                                                                                                              13\n",
       "2                                                                                                                               1\n",
       "Name: 5_coded, dtype: int64"
      ]
     },
     "execution_count": 134,
     "metadata": {},
     "output_type": "execute_result"
    }
   ],
   "source": [
    "data['5_coded'].value_counts()"
   ]
  },
  {
   "cell_type": "code",
   "execution_count": 135,
   "metadata": {
    "colab": {},
    "colab_type": "code",
    "id": "zINYMpY2uvE6"
   },
   "outputs": [],
   "source": [
    "del data['5_coded']"
   ]
  },
  {
   "cell_type": "code",
   "execution_count": 136,
   "metadata": {
    "colab": {
     "base_uri": "https://localhost:8080/",
     "height": 88
    },
    "colab_type": "code",
    "id": "KUYnJVPnuvE9",
    "outputId": "abb7d4f4-a4ac-4f96-bec7-b46b2eb998a7"
   },
   "outputs": [
    {
     "data": {
      "text/plain": [
       "\"You confront your manager on the issue and insist that she accept your proposal. You are positive that you are right. You have the marketing people to back you and will not give up until you convince your manager otherwise. \"    395\n",
       "\"You implement your proposition despite the manager's resistance. Since you have a lot of faith in this proposition, you decide to trust your judgement and go behind her back this once for the benefit of the company.\"               5\n",
       "Name: 6. The company you work for is experiencing financial difficulties. You have thought of a creative solution that will enable it to recruit more clients.However, the downside is that the company will have to let go a stable,loyal but not so profitable client (due to a conflict of interest).Two out of three marketing people agree with you while your manager does not because she believes this is too risky. , dtype: int64"
      ]
     },
     "execution_count": 136,
     "metadata": {},
     "output_type": "execute_result"
    }
   ],
   "source": [
    "data['6. The company you work for is experiencing financial difficulties. You have thought of a creative solution that will enable it to recruit more clients.However, the downside is that the company will have to let go a stable,loyal but not so profitable client (due to a conflict of interest).Two out of three marketing people agree with you while your manager does not because she believes this is too risky. '].value_counts()"
   ]
  },
  {
   "cell_type": "code",
   "execution_count": 137,
   "metadata": {
    "colab": {},
    "colab_type": "code",
    "id": "wzU1G_9nuvFD"
   },
   "outputs": [],
   "source": [
    "\n",
    "data['6_coded']=coding(data['6. The company you work for is experiencing financial difficulties. You have thought of a creative solution that will enable it to recruit more clients.However, the downside is that the company will have to let go a stable,loyal but not so profitable client (due to a conflict of interest).Two out of three marketing people agree with you while your manager does not because she believes this is too risky. '],{'\"You confront your manager on the issue and insist that she accept your proposal. You are positive that you are right. You have the marketing people to back you and will not give up until you convince your manager otherwise. \"':0,})"
   ]
  },
  {
   "cell_type": "code",
   "execution_count": 138,
   "metadata": {
    "colab": {
     "base_uri": "https://localhost:8080/",
     "height": 88
    },
    "colab_type": "code",
    "id": "fhudd7_WuvFI",
    "outputId": "55bda161-b15f-4b3a-d4eb-be6977e598aa"
   },
   "outputs": [
    {
     "data": {
      "text/plain": [
       "array([0,\n",
       "       '\"You implement your proposition despite the manager\\'s resistance. Since you have a lot of faith in this proposition, you decide to trust your judgement and go behind her back this once for the benefit of the company.\"'],\n",
       "      dtype=object)"
      ]
     },
     "execution_count": 138,
     "metadata": {},
     "output_type": "execute_result"
    }
   ],
   "source": [
    "data['6_coded'].unique()"
   ]
  },
  {
   "cell_type": "code",
   "execution_count": null,
   "metadata": {
    "colab": {},
    "colab_type": "code",
    "id": "idWenO4huvFN"
   },
   "outputs": [],
   "source": [
    "\n",
    "    "
   ]
  },
  {
   "cell_type": "code",
   "execution_count": 139,
   "metadata": {
    "colab": {
     "base_uri": "https://localhost:8080/",
     "height": 88
    },
    "colab_type": "code",
    "id": "g_AbHYhYuvFS",
    "outputId": "9ce0f4d2-d8ef-4efa-c989-45e05010c565"
   },
   "outputs": [
    {
     "data": {
      "text/plain": [
       "0                                                                                                                                                                                                                            395\n",
       "\"You implement your proposition despite the manager's resistance. Since you have a lot of faith in this proposition, you decide to trust your judgement and go behind her back this once for the benefit of the company.\"      5\n",
       "Name: 6_coded, dtype: int64"
      ]
     },
     "execution_count": 139,
     "metadata": {},
     "output_type": "execute_result"
    }
   ],
   "source": [
    "data['6_coded'].value_counts()"
   ]
  },
  {
   "cell_type": "code",
   "execution_count": 140,
   "metadata": {
    "colab": {
     "base_uri": "https://localhost:8080/",
     "height": 88
    },
    "colab_type": "code",
    "id": "8btsYvtmuvFY",
    "outputId": "d4e1cccc-6a21-4fea-c754-7dc4146d4a24"
   },
   "outputs": [
    {
     "data": {
      "text/plain": [
       "\"You call your co-worker in for a talk. You explain that cooperation is an essential feature of any workplace and tell him you believe both of you can learn from one another. If he refuses to understand you take more serious steps. \"    389\n",
       "\"Since you do not want to make a \"big deal\" out of the issue, you ask a third party to intimate to your co-worker that his behaviour is unacceptable. \"                                                                                       11\n",
       "Name: 7. \"A co-worker is undermining you. Currently, he is at a less senior position than you in the company and hasn't been working there for long. However,he is better educated than you and is also considered a fast learner. You know from a third party that he is interested in taking over some of your responsibilities. \", dtype: int64"
      ]
     },
     "execution_count": 140,
     "metadata": {},
     "output_type": "execute_result"
    }
   ],
   "source": [
    "data['7. \"A co-worker is undermining you. Currently, he is at a less senior position than you in the company and hasn\\'t been working there for long. However,he is better educated than you and is also considered a fast learner. You know from a third party that he is interested in taking over some of your responsibilities. \"'].value_counts()"
   ]
  },
  {
   "cell_type": "code",
   "execution_count": 141,
   "metadata": {
    "colab": {},
    "colab_type": "code",
    "id": "nD82b6fsuvFf"
   },
   "outputs": [],
   "source": [
    "data['7_coded']=coding(data['7. \"A co-worker is undermining you. Currently, he is at a less senior position than you in the company and hasn\\'t been working there for long. However,he is better educated than you and is also considered a fast learner. You know from a third party that he is interested in taking over some of your responsibilities. \"'],{'\"You call your co-worker in for a talk. You explain that cooperation is an essential feature of any workplace and tell him you believe both of you can learn from one another. If he refuses to understand you take more serious steps. \"':0,'\"Since you do not want to make a \"big deal\" out of the issue, you ask a third party to intimate to your co-worker that his behaviour is unacceptable. \"':1})"
   ]
  },
  {
   "cell_type": "code",
   "execution_count": 142,
   "metadata": {
    "colab": {
     "base_uri": "https://localhost:8080/",
     "height": 68
    },
    "colab_type": "code",
    "id": "ukLy3KOsuvFi",
    "outputId": "cbf03d58-1cd8-49fa-a715-e5755cf386d5"
   },
   "outputs": [
    {
     "data": {
      "text/plain": [
       "0    389\n",
       "1     11\n",
       "Name: 7_coded, dtype: int64"
      ]
     },
     "execution_count": 142,
     "metadata": {},
     "output_type": "execute_result"
    }
   ],
   "source": [
    "data['7_coded'].value_counts()"
   ]
  },
  {
   "cell_type": "code",
   "execution_count": 143,
   "metadata": {
    "colab": {
     "base_uri": "https://localhost:8080/",
     "height": 105
    },
    "colab_type": "code",
    "id": "95EXUVPyuvFm",
    "outputId": "0251992e-ca67-4f45-d69a-63cc7b5e5769"
   },
   "outputs": [
    {
     "data": {
      "text/plain": [
       "\"You talk to the training manager and try to understand the reasons for her decision. You explain the necessity of training for your department's performance and try to persuade her to let at least one of your employees attend the course. \"    386\n",
       "\"You contact the manager of the other department, whose workers were selected for training instead of your employees. You try to convince him to let one of your employees take the course instead of one of his. \"                                  13\n",
       "\"Since relations between you and the training manager are already strained, you decide to let the subject go this time and wait a few months until the next course opens. \"                                                                           1\n",
       "Name: 8. \"You are a department manager. Two members of your staff are long overdue to participate in a professional training course. The training department manager has informed you that she has chosen employees from a different department instead.Relations with the training department are already problematic. \", dtype: int64"
      ]
     },
     "execution_count": 143,
     "metadata": {},
     "output_type": "execute_result"
    }
   ],
   "source": [
    "data['8. \"You are a department manager. Two members of your staff are long overdue to participate in a professional training course. The training department manager has informed you that she has chosen employees from a different department instead.Relations with the training department are already problematic. \"'].value_counts()"
   ]
  },
  {
   "cell_type": "code",
   "execution_count": 144,
   "metadata": {
    "colab": {},
    "colab_type": "code",
    "id": "DGGdO4HhuvFq"
   },
   "outputs": [],
   "source": [
    "data['8_coded']=coding(data['8. \"You are a department manager. Two members of your staff are long overdue to participate in a professional training course. The training department manager has informed you that she has chosen employees from a different department instead.Relations with the training department are already problematic. \"'],{'\"You contact the manager of the other department, whose workers were selected for training instead of your employees. You try to convince him to let one of your employees take the course instead of one of his. \"':1,'\"Since relations between you and the training manager are already strained, you decide to let the subject go this time and wait a few months until the next course opens. \"':2})"
   ]
  },
  {
   "cell_type": "code",
   "execution_count": 145,
   "metadata": {
    "colab": {
     "base_uri": "https://localhost:8080/",
     "height": 71
    },
    "colab_type": "code",
    "id": "pFWT7ZPRuvFu",
    "outputId": "a6b2a385-0f84-4694-9eff-a216a23b635f"
   },
   "outputs": [
    {
     "data": {
      "text/plain": [
       "array(['\"You talk to the training manager and try to understand the reasons for her decision. You explain the necessity of training for your department\\'s performance and try to persuade her to let at least one of your employees attend the course. \"',\n",
       "       1, 2], dtype=object)"
      ]
     },
     "execution_count": 145,
     "metadata": {},
     "output_type": "execute_result"
    }
   ],
   "source": [
    "data['8_coded'].unique()"
   ]
  },
  {
   "cell_type": "code",
   "execution_count": 146,
   "metadata": {
    "colab": {
     "base_uri": "https://localhost:8080/",
     "height": 88
    },
    "colab_type": "code",
    "id": "wSI5QyVYuvFz",
    "outputId": "f6b97989-99db-4546-8afc-4abdae237089"
   },
   "outputs": [
    {
     "data": {
      "text/plain": [
       "\"You weigh up the advantages and disadvantages of each side and decide accordingly without getting involved in their personal conflict\"                                                                         391\n",
       "\"You believe that getting involved in this dispute would be detrimental to you as both sides are superior to you. Therefore, you refuse to pick a side saying that both strategies are equally successful. \"      9\n",
       "Name: 9. \"At a marketing meeting with your supervisor and the senior marketing manager you find yourself in the midst of a conflict between them. You know that the two do not get along professionally and that they are inconstant disagreement.They are now arguing about strategies for a new campaign, and are asking you to pick a side. \", dtype: int64"
      ]
     },
     "execution_count": 146,
     "metadata": {},
     "output_type": "execute_result"
    }
   ],
   "source": [
    "data['9. \"At a marketing meeting with your supervisor and the senior marketing manager you find yourself in the midst of a conflict between them. You know that the two do not get along professionally and that they are inconstant disagreement.They are now arguing about strategies for a new campaign, and are asking you to pick a side. \"'].value_counts()"
   ]
  },
  {
   "cell_type": "code",
   "execution_count": 147,
   "metadata": {
    "colab": {},
    "colab_type": "code",
    "id": "a09qaGOzuvF5"
   },
   "outputs": [],
   "source": [
    "data['9_coded']=coding(data['9. \"At a marketing meeting with your supervisor and the senior marketing manager you find yourself in the midst of a conflict between them. You know that the two do not get along professionally and that they are inconstant disagreement.They are now arguing about strategies for a new campaign, and are asking you to pick a side. \"'],{'\"You weigh up the advantages and disadvantages of each side and decide accordingly without getting involved in their personal conflict\"':0,'\"You believe that getting involved in this dispute would be detrimental to you as both sides are superior to you. Therefore, you refuse to pick a side saying that both strategies are equally successful. \"':1})"
   ]
  },
  {
   "cell_type": "code",
   "execution_count": 148,
   "metadata": {
    "colab": {
     "base_uri": "https://localhost:8080/",
     "height": 68
    },
    "colab_type": "code",
    "id": "HAaCOaMOuvGA",
    "outputId": "c538a769-688e-49d0-aa08-8302c6717fc2"
   },
   "outputs": [
    {
     "data": {
      "text/plain": [
       "0    391\n",
       "1      9\n",
       "Name: 9_coded, dtype: int64"
      ]
     },
     "execution_count": 148,
     "metadata": {},
     "output_type": "execute_result"
    }
   ],
   "source": [
    "data['9_coded'].value_counts()"
   ]
  },
  {
   "cell_type": "code",
   "execution_count": 149,
   "metadata": {
    "colab": {
     "base_uri": "https://localhost:8080/",
     "height": 88
    },
    "colab_type": "code",
    "id": "FHD-w936uvGJ",
    "outputId": "6a0d3a96-b4d6-4f98-f276-8f3a491523ee"
   },
   "outputs": [
    {
     "data": {
      "text/plain": [
       "\"You veto her participation in the course and discuss it with her. You express your concerns and you try to work out your differences. You update your director. \"    394\n",
       "\"You approve her participation in the course since it was offered by the director. However, you voice your concerns to the director. \"                                  6\n",
       "Name: 10. \"After you have served two years as manager of the sales team, the director of your company appoints a new deputy manager. Although you have been able to work together, your impressions of her are negative - you find her arrogant and disloyal.The director has now considered sending her on a course that would create an opportunity for her relocation to a different position within the company. However, it would also speed up her promotion. \", dtype: int64"
      ]
     },
     "execution_count": 149,
     "metadata": {},
     "output_type": "execute_result"
    }
   ],
   "source": [
    "data['10. \"After you have served two years as manager of the sales team, the director of your company appoints a new deputy manager. Although you have been able to work together, your impressions of her are negative - you find her arrogant and disloyal.The director has now considered sending her on a course that would create an opportunity for her relocation to a different position within the company. However, it would also speed up her promotion. \"'].value_counts()"
   ]
  },
  {
   "cell_type": "code",
   "execution_count": 150,
   "metadata": {
    "colab": {},
    "colab_type": "code",
    "id": "oIDoLJP1uvGO"
   },
   "outputs": [],
   "source": [
    "data['10_coded']=coding(data['10. \"After you have served two years as manager of the sales team, the director of your company appoints a new deputy manager. Although you have been able to work together, your impressions of her are negative - you find her arrogant and disloyal.The director has now considered sending her on a course that would create an opportunity for her relocation to a different position within the company. However, it would also speed up her promotion. \"'],{'\"You veto her participation in the course and discuss it with her. You express your concerns and you try to work out your differences. You update your director. \"':0,'\"You approve her participation in the course since it was offered by the director. However, you voice your concerns to the director. \"':1,})"
   ]
  },
  {
   "cell_type": "code",
   "execution_count": 151,
   "metadata": {
    "colab": {
     "base_uri": "https://localhost:8080/",
     "height": 88
    },
    "colab_type": "code",
    "id": "TERW1nNYuvGS",
    "outputId": "8bde41fe-14fb-46ef-c4c6-24e1f6e651f2"
   },
   "outputs": [
    {
     "data": {
      "text/plain": [
       "\"You explain your personal situation to the director and apologise for the decline in the performance of my team. You ask to take a few days off to recuperate\"    393\n",
       "\"You scold your team members for their poor performance and set new, more attainable sales targets in line with the changes in the market.\"                          7\n",
       "Name: 11. \"You have been working as a salesperson for the past year and have consistently achieved great sales numbers. Due to personal reasons, you have recently been unfocused at work and as a result your work performance has declined. Additionally, due to changes in the market, the sales figures of your team have decreased as well.Your director does not seem to be taking the changes in the market into account and is blaming your poor performance on poor leadership on your part. \", dtype: int64"
      ]
     },
     "execution_count": 151,
     "metadata": {},
     "output_type": "execute_result"
    }
   ],
   "source": [
    "data['11. \"You have been working as a salesperson for the past year and have consistently achieved great sales numbers. Due to personal reasons, you have recently been unfocused at work and as a result your work performance has declined. Additionally, due to changes in the market, the sales figures of your team have decreased as well.Your director does not seem to be taking the changes in the market into account and is blaming your poor performance on poor leadership on your part. \"'].value_counts()"
   ]
  },
  {
   "cell_type": "code",
   "execution_count": 152,
   "metadata": {
    "colab": {},
    "colab_type": "code",
    "id": "Rwr6fRd4uvGY"
   },
   "outputs": [],
   "source": [
    "data['11_coded']=coding(data['11. \"You have been working as a salesperson for the past year and have consistently achieved great sales numbers. Due to personal reasons, you have recently been unfocused at work and as a result your work performance has declined. Additionally, due to changes in the market, the sales figures of your team have decreased as well.Your director does not seem to be taking the changes in the market into account and is blaming your poor performance on poor leadership on your part. \"'],{'\"You explain your personal situation to the director and apologise for the decline in the performance of my team. You ask to take a few days off to recuperate\"':0,'\"You scold your team members for their poor performance and set new, more attainable sales targets in line with the changes in the market.\"':1})"
   ]
  },
  {
   "cell_type": "code",
   "execution_count": 153,
   "metadata": {
    "colab": {
     "base_uri": "https://localhost:8080/",
     "height": 88
    },
    "colab_type": "code",
    "id": "6sunYnYXuvGa",
    "outputId": "865154cb-8146-4791-ba67-b5780958f66d"
   },
   "outputs": [
    {
     "data": {
      "text/plain": [
       "\"Because the rumour is out you update your manager and only him about your intention of leaving. Since you are still an employee there, you keep working normally. \"    392\n",
       "\"Since the rumour is already out and you will probably leave, you invest a little less in your work and a bit more in attaining the new position.\"                        8\n",
       "Name: 12. \"You've been working in the same place for the past three years and have managed to work your way up. Lately, you have been feeling that you have reached your potential in the company so you start pursuing options for advancing your career in other companies. You are now in the midst of negotiations for a new position. Rumors that you are leaving have spread in your current work place. \", dtype: int64"
      ]
     },
     "execution_count": 153,
     "metadata": {},
     "output_type": "execute_result"
    }
   ],
   "source": [
    "data['12. \"You\\'ve been working in the same place for the past three years and have managed to work your way up. Lately, you have been feeling that you have reached your potential in the company so you start pursuing options for advancing your career in other companies. You are now in the midst of negotiations for a new position. Rumors that you are leaving have spread in your current work place. \"'].value_counts()"
   ]
  },
  {
   "cell_type": "code",
   "execution_count": 154,
   "metadata": {
    "colab": {},
    "colab_type": "code",
    "id": "XO3zsgLjuvGh"
   },
   "outputs": [],
   "source": [
    "data['12_coded']=coding(data['12. \"You\\'ve been working in the same place for the past three years and have managed to work your way up. Lately, you have been feeling that you have reached your potential in the company so you start pursuing options for advancing your career in other companies. You are now in the midst of negotiations for a new position. Rumors that you are leaving have spread in your current work place. \"'],{'\"Because the rumour is out you update your manager and only him about your intention of leaving. Since you are still an employee there, you keep working normally. \"':0,'\"Since the rumour is already out and you will probably leave, you invest a little less in your work and a bit more in attaining the new position.\"':1})"
   ]
  },
  {
   "cell_type": "code",
   "execution_count": 155,
   "metadata": {
    "colab": {
     "base_uri": "https://localhost:8080/",
     "height": 88
    },
    "colab_type": "code",
    "id": "ptyblyucuvGl",
    "outputId": "99821767-190d-4a71-f3e5-79cf3f46f9ea"
   },
   "outputs": [
    {
     "data": {
      "text/plain": [
       "\"You present a document to your manager systematically detailing the advantages of your proposition and its contribution to the company. If she keeps insisting, you'll support her decision. \"                                       389\n",
       "\"You confront your manager on the issue and insist that she accept your proposal. You are positive that you are right. You have the marketing people to back you and will not give up until you convince your manager otherwise. \"     11\n",
       "Name: 13. \"The company you work for is experiencing financial difficulties. You have thought of a creative solution that will enable it to recruit more clients.However, the downside is that the company will have to let go a stable,loyal but not so profitable client (due to a conflict of interest).Two out of three marketing people agree with you while your manager does not because she believes this is too risky. \", dtype: int64"
      ]
     },
     "execution_count": 155,
     "metadata": {},
     "output_type": "execute_result"
    }
   ],
   "source": [
    "data['13. \"The company you work for is experiencing financial difficulties. You have thought of a creative solution that will enable it to recruit more clients.However, the downside is that the company will have to let go a stable,loyal but not so profitable client (due to a conflict of interest).Two out of three marketing people agree with you while your manager does not because she believes this is too risky. \"'].value_counts()"
   ]
  },
  {
   "cell_type": "code",
   "execution_count": 156,
   "metadata": {
    "colab": {
     "base_uri": "https://localhost:8080/",
     "height": 88
    },
    "colab_type": "code",
    "id": "zB6NcIuUuvGq",
    "outputId": "f85fb48d-3aae-4ee3-b35b-29ab03b32e71"
   },
   "outputs": [
    {
     "data": {
      "text/plain": [
       "\"You call your co-worker in for a talk. You explain that cooperation is an essential feature of any workplace and tell him you believe both of you can learn from one another. If he refuses to understand you take more serious steps. \"    388\n",
       "\"Since you do not want to make a \"big deal\" out of the issue, you ask a third party to intimate to your co-worker that his behaviour is unacceptable. \"                                                                                       12\n",
       "Name: 14. \"A co-worker is undermining you. Currently, he is at a less senior position than you in the company and hasn't been working there for long. However,he is better educated than you and is also considered a fast learner. You know from a third party that he is interested in taking over some of your responsibilities. \", dtype: int64"
      ]
     },
     "execution_count": 156,
     "metadata": {},
     "output_type": "execute_result"
    }
   ],
   "source": [
    "data['14. \"A co-worker is undermining you. Currently, he is at a less senior position than you in the company and hasn\\'t been working there for long. However,he is better educated than you and is also considered a fast learner. You know from a third party that he is interested in taking over some of your responsibilities. \"'].value_counts()"
   ]
  },
  {
   "cell_type": "code",
   "execution_count": 157,
   "metadata": {
    "colab": {},
    "colab_type": "code",
    "id": "MVz5n-TOuvGu"
   },
   "outputs": [],
   "source": [
    "data['14_coded']=coding(data['14. \"A co-worker is undermining you. Currently, he is at a less senior position than you in the company and hasn\\'t been working there for long. However,he is better educated than you and is also considered a fast learner. You know from a third party that he is interested in taking over some of your responsibilities. \"'],{'\"You call your co-worker in for a talk. You explain that cooperation is an essential feature of any workplace and tell him you believe both of you can learn from one another. If he refuses to understand you take more serious steps. \"':0,'\"Since you do not want to make a \"big deal\" out of the issue, you ask a third party to intimate to your co-worker that his behaviour is unacceptable. \"':1})"
   ]
  },
  {
   "cell_type": "code",
   "execution_count": 158,
   "metadata": {
    "colab": {
     "base_uri": "https://localhost:8080/",
     "height": 88
    },
    "colab_type": "code",
    "id": "vdZhHRvruvGw",
    "outputId": "c2988e7c-328f-49c6-f1a8-081e8e0464f2"
   },
   "outputs": [
    {
     "data": {
      "text/plain": [
       "\"You contact the manager of the other department, whose workers were selected for training instead of your employees. You try to convince him to let one of your employees take the course instead of one of his. \"                                 384\n",
       "\"You talk to the training manager and try to understand the reasons for her decision. You explain the necessity of training for your department's performance and try to persuade her to let at least one of your employees attend the course. \"     16\n",
       "Name: 15. \"You are a department manager. Two members of your staff are long overdue to participate in a professional training course. The training department manager has informed you that she has chosen employees from a different department instead.Relations with the training department are already problematic. \", dtype: int64"
      ]
     },
     "execution_count": 158,
     "metadata": {},
     "output_type": "execute_result"
    }
   ],
   "source": [
    "data['15. \"You are a department manager. Two members of your staff are long overdue to participate in a professional training course. The training department manager has informed you that she has chosen employees from a different department instead.Relations with the training department are already problematic. \"'].value_counts()"
   ]
  },
  {
   "cell_type": "code",
   "execution_count": 159,
   "metadata": {
    "colab": {
     "base_uri": "https://localhost:8080/",
     "height": 88
    },
    "colab_type": "code",
    "id": "ZUH52CrfuvGz",
    "outputId": "485387c9-9094-4994-fe76-580c1c0229d4"
   },
   "outputs": [
    {
     "data": {
      "text/plain": [
       "\"You meet with the employee and explain that her negative behaviour is affecting not only her performance but that of the entire office. You express a sincere desire to help her during her rough patch on condition that she cooperate with you and improve her attitude\"    386\n",
       "\"You decide to let it blow over. She has been a consistently good employee until recently and you feel you need to \"cut her some slack\"\". Part of your job is to be sensitive to your employees' needs when necessary. \"                                                        14\n",
       "Name: 16. \"In the past month one of your employees has shown a major decline in sales performance. Although the decline has been ongoing for a couple of months, it has been particularly steep during the past two weeks. In addition, she has started coming in late and seems very frustrated with her work. Her behavior is influencing the atmosphere in the office as she is a popular employee and has been working for the company for the past two years. \", dtype: int64"
      ]
     },
     "execution_count": 159,
     "metadata": {},
     "output_type": "execute_result"
    }
   ],
   "source": [
    "data['16. \"In the past month one of your employees has shown a major decline in sales performance. Although the decline has been ongoing for a couple of months, it has been particularly steep during the past two weeks. In addition, she has started coming in late and seems very frustrated with her work. Her behavior is influencing the atmosphere in the office as she is a popular employee and has been working for the company for the past two years. \"'].value_counts()"
   ]
  },
  {
   "cell_type": "code",
   "execution_count": 160,
   "metadata": {
    "colab": {
     "base_uri": "https://localhost:8080/",
     "height": 88
    },
    "colab_type": "code",
    "id": "R6D5Ezf-uvG4",
    "outputId": "4f0279a9-9c3e-4a96-f167-eb2206f725f8"
   },
   "outputs": [
    {
     "data": {
      "text/plain": [
       "\"You reach out to the co-worker, explain your difficulty and try to negotiate a fair distribution of the work load between you. You take into account that you might have to put in extra hours to complete whatever tasks he neglects to do.\"    376\n",
       "\"You cannot accept this kind of attitude. You immediately contact your manager to discuss the situation. You request that your co-worker be replaced by another worker to complete the project. \"                                                  24\n",
       "Name: 17. \"You are assigned to work on a project along with another co-worker. He has been working in the department longer than you. Since he has no great ambitions or aspirations to develop professionally, he does not put much effort into your mutual project. \", dtype: int64"
      ]
     },
     "execution_count": 160,
     "metadata": {},
     "output_type": "execute_result"
    }
   ],
   "source": [
    "data['17. \"You are assigned to work on a project along with another co-worker. He has been working in the department longer than you. Since he has no great ambitions or aspirations to develop professionally, he does not put much effort into your mutual project. \"'].value_counts()"
   ]
  },
  {
   "cell_type": "code",
   "execution_count": 161,
   "metadata": {
    "colab": {},
    "colab_type": "code",
    "id": "oCHmX79BuvG7"
   },
   "outputs": [],
   "source": [
    "data['17_coded']=coding(data['17. \"You are assigned to work on a project along with another co-worker. He has been working in the department longer than you. Since he has no great ambitions or aspirations to develop professionally, he does not put much effort into your mutual project. \"'],{'\"You reach out to the co-worker, explain your difficulty and try to negotiate a fair distribution of the work load between you. You take into account that you might have to put in extra hours to complete whatever tasks he neglects to do.\"':0,'\"You cannot accept this kind of attitude. You immediately contact your manager to discuss the situation. You request that your co-worker be replaced by another worker to complete the project. \"':1})"
   ]
  },
  {
   "cell_type": "code",
   "execution_count": 162,
   "metadata": {
    "colab": {
     "base_uri": "https://localhost:8080/",
     "height": 88
    },
    "colab_type": "code",
    "id": "XFBxEWJ6uvG9",
    "outputId": "388dfaf4-3141-487e-a6e8-a4287f22b123"
   },
   "outputs": [
    {
     "data": {
      "text/plain": [
       "\"You do your best to get him to listen. It may involve some discomfort but you try to explain the logic behind your criticism in the hope that he will understand.\"    387\n",
       "\"It's best to stay out of it. If Matt does not want to hear your thoughts, that is his right and there is always the possibility that you are mistaken\"                 13\n",
       "Name: 18. \"You work in a large audit firm as a consultant. There are five additional members in the team, all working under the supervision of a team manager and the department manager above him.Matt, a co-worker in your staff with whom you share an office, needs your advice regarding a report he is about to present at this week's team meeting. These meetings are led by your team manager but the department manager is almost always present, too.Although the part of the report that Matt shows you seems fine, you notice that the numerical analysis in another section of the report is missing important conclusions. You can tell that this section of the report does not adhere to the standards of your department's supervisors.Matt seems to be confident about that part of the report and you get the impression that he is not interested in your opinion about it. \", dtype: int64"
      ]
     },
     "execution_count": 162,
     "metadata": {},
     "output_type": "execute_result"
    }
   ],
   "source": [
    "data['18. \"You work in a large audit firm as a consultant. There are five additional members in the team, all working under the supervision of a team manager and the department manager above him.Matt, a co-worker in your staff with whom you share an office, needs your advice regarding a report he is about to present at this week\\'s team meeting. These meetings are led by your team manager but the department manager is almost always present, too.Although the part of the report that Matt shows you seems fine, you notice that the numerical analysis in another section of the report is missing important conclusions. You can tell that this section of the report does not adhere to the standards of your department\\'s supervisors.Matt seems to be confident about that part of the report and you get the impression that he is not interested in your opinion about it. \"'].value_counts()"
   ]
  },
  {
   "cell_type": "code",
   "execution_count": 163,
   "metadata": {
    "colab": {
     "base_uri": "https://localhost:8080/",
     "height": 88
    },
    "colab_type": "code",
    "id": "YNMsLR-vuvHB",
    "outputId": "50dc62e6-319b-44ad-8f4c-2cc9c46bb262"
   },
   "outputs": [
    {
     "data": {
      "text/plain": [
       "Make a note of everything you do which you think might demonstrate your performance.                                                                       385\n",
       "\"Spend your performance reviews complaining to your manager that the new system is unfair, and refuse to participate in any discussions relating to it.     15\n",
       "Name: 19. \"Your organisation has implemented a new performance management system which explicitly links your performance to your pay.Your progression up the pay scale now relies on your proving you have achieved particular levels of performance.\", dtype: int64"
      ]
     },
     "execution_count": 163,
     "metadata": {},
     "output_type": "execute_result"
    }
   ],
   "source": [
    "data['19. \"Your organisation has implemented a new performance management system which explicitly links your performance to your pay.Your progression up the pay scale now relies on your proving you have achieved particular levels of performance.\"'].value_counts()"
   ]
  },
  {
   "cell_type": "code",
   "execution_count": 164,
   "metadata": {
    "colab": {},
    "colab_type": "code",
    "id": "xHEAv6DjuvHG"
   },
   "outputs": [],
   "source": [
    "data['19_coded']=coding(data['19. \"Your organisation has implemented a new performance management system which explicitly links your performance to your pay.Your progression up the pay scale now relies on your proving you have achieved particular levels of performance.\"'],{'Make a note of everything you do which you think might demonstrate your performance.':0,'\"Spend your performance reviews complaining to your manager that the new system is unfair, and refuse to participate in any discussions relating to it.':1})"
   ]
  },
  {
   "cell_type": "code",
   "execution_count": 165,
   "metadata": {
    "colab": {
     "base_uri": "https://localhost:8080/",
     "height": 88
    },
    "colab_type": "code",
    "id": "oyc55azNuvHI",
    "outputId": "d852a06b-8e9f-4f77-d56e-b0e2e369c169"
   },
   "outputs": [
    {
     "data": {
      "text/plain": [
       "Go and find your manager and let them manage the situation.                                             225\n",
       "Hang up on the customer, you’ve done your best and it is inappropriate for her to behave in that way    175\n",
       "Name: 20. \"You answer the phone to an irate customer who claims that she has been overcharged.Although you have checked her account and cannot find any problems she remains convinced there has been a mistake and is becoming increasingly angry.\", dtype: int64"
      ]
     },
     "execution_count": 165,
     "metadata": {},
     "output_type": "execute_result"
    }
   ],
   "source": [
    "data['20. \"You answer the phone to an irate customer who claims that she has been overcharged.Although you have checked her account and cannot find any problems she remains convinced there has been a mistake and is becoming increasingly angry.\"'].value_counts()"
   ]
  },
  {
   "cell_type": "code",
   "execution_count": 166,
   "metadata": {
    "colab": {},
    "colab_type": "code",
    "id": "qy6-_XaHuvHM"
   },
   "outputs": [],
   "source": [
    "data['20_coded']=coding(data['20. \"You answer the phone to an irate customer who claims that she has been overcharged.Although you have checked her account and cannot find any problems she remains convinced there has been a mistake and is becoming increasingly angry.\"'],{'Go and find your manager and let them manage the situation.':0,'Hang up on the customer, you’ve done your best and it is inappropriate for her to behave in that way':1})"
   ]
  },
  {
   "cell_type": "code",
   "execution_count": 167,
   "metadata": {
    "colab": {
     "base_uri": "https://localhost:8080/",
     "height": 68
    },
    "colab_type": "code",
    "id": "2pMy27_juvHQ",
    "outputId": "b252b8db-9bea-4699-be4d-21a3e52880ba"
   },
   "outputs": [
    {
     "data": {
      "text/plain": [
       "Go and give them a big hug and tell them that everything will be ok.    378\n",
       "Walk out of the toilets and leave them to it.                            22\n",
       "Name: 21. \"You find a colleague crying in the toilets.\"  How will you react?, dtype: int64"
      ]
     },
     "execution_count": 167,
     "metadata": {},
     "output_type": "execute_result"
    }
   ],
   "source": [
    "data['21. \"You find a colleague crying in the toilets.\"  How will you react?'].value_counts()"
   ]
  },
  {
   "cell_type": "code",
   "execution_count": 168,
   "metadata": {
    "colab": {},
    "colab_type": "code",
    "id": "NkHGBJfnuvHT"
   },
   "outputs": [],
   "source": [
    "data['21_coded']=coding(data['21. \"You find a colleague crying in the toilets.\"  How will you react?'],{'Go and give them a big hug and tell them that everything will be ok.':0,'Walk out of the toilets and leave them to it.':1})"
   ]
  },
  {
   "cell_type": "code",
   "execution_count": 169,
   "metadata": {
    "colab": {
     "base_uri": "https://localhost:8080/",
     "height": 68
    },
    "colab_type": "code",
    "id": "sltznjCkuvHX",
    "outputId": "28d6c87c-2022-4f78-dd3d-8729672b186f"
   },
   "outputs": [
    {
     "data": {
      "text/plain": [
       "Assume this is a mistake and speak to your manager.    369\n",
       "Complain to the Human Resources department.             31\n",
       "Name: 22. \"Everyone in your department has received a new computer system except for you.\" What  is your reaction ?, dtype: int64"
      ]
     },
     "execution_count": 169,
     "metadata": {},
     "output_type": "execute_result"
    }
   ],
   "source": [
    "data['22. \"Everyone in your department has received a new computer system except for you.\" What  is your reaction ?'].value_counts()"
   ]
  },
  {
   "cell_type": "code",
   "execution_count": 170,
   "metadata": {
    "colab": {},
    "colab_type": "code",
    "id": "rs8Ia9zkuvHc"
   },
   "outputs": [],
   "source": [
    "data['22_coded']=coding(data['22. \"Everyone in your department has received a new computer system except for you.\" What  is your reaction ?'],{'Assume this is a mistake and speak to your manager.':0,'Complain to the Human Resources department.':1})"
   ]
  },
  {
   "cell_type": "code",
   "execution_count": 171,
   "metadata": {
    "colab": {
     "base_uri": "https://localhost:8080/",
     "height": 105
    },
    "colab_type": "code",
    "id": "PbxaA1BJuvHg",
    "outputId": "47f98b72-b81f-4141-f932-9761f139e400"
   },
   "outputs": [
    {
     "data": {
      "text/plain": [
       "Inform your manager that you suspect your colleague is stealing.    375\n",
       "Don't do anything. If guilty your colleague will be caught.          24\n",
       "Confront your colleague and ask her about what you have noticed.      1\n",
       "Name: 23. You are aware that large amounts of company property have been going missing over the past couple of weeks. You have noticed one of your colleagues putting stationery and other equipment from the office into her bag on a number of occasions and suspect that she is responsible., dtype: int64"
      ]
     },
     "execution_count": 171,
     "metadata": {},
     "output_type": "execute_result"
    }
   ],
   "source": [
    "data['23. You are aware that large amounts of company property have been going missing over the past couple of weeks. You have noticed one of your colleagues putting stationery and other equipment from the office into her bag on a number of occasions and suspect that she is responsible.'].value_counts()"
   ]
  },
  {
   "cell_type": "code",
   "execution_count": 172,
   "metadata": {
    "colab": {},
    "colab_type": "code",
    "id": "19GRkT00uvHj"
   },
   "outputs": [],
   "source": [
    "data['23_coded']=coding(data['23. You are aware that large amounts of company property have been going missing over the past couple of weeks. You have noticed one of your colleagues putting stationery and other equipment from the office into her bag on a number of occasions and suspect that she is responsible.'],{'Inform your manager that you suspect your colleague is stealing.':0,\"Don't do anything. If guilty your colleague will be caught.\":1,'Confront your colleague and ask her about what you have noticed.':2})"
   ]
  },
  {
   "cell_type": "code",
   "execution_count": 173,
   "metadata": {
    "colab": {
     "base_uri": "https://localhost:8080/",
     "height": 105
    },
    "colab_type": "code",
    "id": "hXWvjOeVuvHl",
    "outputId": "b92da7ea-9b08-45ef-f915-bba4e63fbf80"
   },
   "outputs": [
    {
     "data": {
      "text/plain": [
       "Discuss with the two Team Members that are having difficulties, identify the causes, evaluate the remaining workload and determine an action plan to finish the project.         373\n",
       "Inform your Director of the current situation of the Team Members that are having difficulties, so as to justify the status on the project, and ask for additional resources.     26\n",
       "Ask the two Team Members that are late, to work additional hours in order to respect the deadlines.                                                                                1\n",
       "Name: 24. You are a Project Leader and manage the coordination of four Team Members. Two Team Members won’t be able to meet the deadlines of the project. The Director of the organisation reminds you the importance of meeting deadlines. Which is the most likely course of action you would take?, dtype: int64"
      ]
     },
     "execution_count": 173,
     "metadata": {},
     "output_type": "execute_result"
    }
   ],
   "source": [
    "data['24. You are a Project Leader and manage the coordination of four Team Members. Two Team Members won’t be able to meet the deadlines of the project. The Director of the organisation reminds you the importance of meeting deadlines. Which is the most likely course of action you would take?'].value_counts()"
   ]
  },
  {
   "cell_type": "code",
   "execution_count": 174,
   "metadata": {
    "colab": {},
    "colab_type": "code",
    "id": "VvI3t4f7uvHp"
   },
   "outputs": [],
   "source": [
    "data['24_coded']=coding(data['24. You are a Project Leader and manage the coordination of four Team Members. Two Team Members won’t be able to meet the deadlines of the project. The Director of the organisation reminds you the importance of meeting deadlines. Which is the most likely course of action you would take?'],{'Discuss with the two Team Members that are having difficulties, identify the causes, evaluate the remaining workload and determine an action plan to finish the project.':0,'Inform your Director of the current situation of the Team Members that are having difficulties, so as to justify the status on the project, and ask for additional resources.':1,'Ask the two Team Members that are late, to work additional hours in order to respect the deadlines.':2})"
   ]
  },
  {
   "cell_type": "code",
   "execution_count": 175,
   "metadata": {
    "colab": {
     "base_uri": "https://localhost:8080/",
     "height": 88
    },
    "colab_type": "code",
    "id": "i8HFbPvKuvHs",
    "outputId": "f285db12-14eb-4e29-9e0e-231420cc6f84"
   },
   "outputs": [
    {
     "data": {
      "text/plain": [
       "Discuss it with your colleague, ask him the reasons for the delay and fix up together a plan to continue on the project.    391\n",
       "Send an email with a status report on the project, indicate what you did, with your Head of Unit in cc.                       9\n",
       "Name: 25. You have been assigned to work on a global project for your employer. You have to work with a member of another Unit. The Head of Unit has determined a fixed plan of action for each step. After a couple of weeks, you notice that your colleague on the project is not following the plan and his contribution is low, which is starting to have a negative effect on the project. Which is the most likely course of action you would take?, dtype: int64"
      ]
     },
     "execution_count": 175,
     "metadata": {},
     "output_type": "execute_result"
    }
   ],
   "source": [
    "data['25. You have been assigned to work on a global project for your employer. You have to work with a member of another Unit. The Head of Unit has determined a fixed plan of action for each step. After a couple of weeks, you notice that your colleague on the project is not following the plan and his contribution is low, which is starting to have a negative effect on the project. Which is the most likely course of action you would take?'].value_counts()"
   ]
  },
  {
   "cell_type": "code",
   "execution_count": 176,
   "metadata": {
    "colab": {},
    "colab_type": "code",
    "id": "47-WE6zQuvHz"
   },
   "outputs": [],
   "source": [
    "data['25_coded']=coding(data['25. You have been assigned to work on a global project for your employer. You have to work with a member of another Unit. The Head of Unit has determined a fixed plan of action for each step. After a couple of weeks, you notice that your colleague on the project is not following the plan and his contribution is low, which is starting to have a negative effect on the project. Which is the most likely course of action you would take?'],{'Discuss it with your colleague, ask him the reasons for the delay and fix up together a plan to continue on the project.':0,'Send an email with a status report on the project, indicate what you did, with your Head of Unit in cc.':1})"
   ]
  },
  {
   "cell_type": "code",
   "execution_count": 177,
   "metadata": {
    "colab": {},
    "colab_type": "code",
    "id": "l4gPoW3duvH1"
   },
   "outputs": [],
   "source": [
    "predictors=['1_Coded','3_coded','4_coded','7_coded','9_coded','10_coded','11_coded','12_coded','14_coded','17_coded','19_coded','20_coded','21_coded','22_coded','23_coded','24_coded','25_coded']"
   ]
  },
  {
   "cell_type": "code",
   "execution_count": 178,
   "metadata": {
    "colab": {},
    "colab_type": "code",
    "id": "C63JhURAuvH3"
   },
   "outputs": [],
   "source": [
    "X=data[predictors]\n",
    "y=data['Select a Role']"
   ]
  },
  {
   "cell_type": "code",
   "execution_count": 179,
   "metadata": {
    "colab": {
     "base_uri": "https://localhost:8080/",
     "height": 316
    },
    "colab_type": "code",
    "id": "1CHgUCxWuvH8",
    "outputId": "52976844-d96b-4b70-bc64-52514e6ea64a"
   },
   "outputs": [],
   "source": [
    "import sklearn\n"
   ]
  },
  {
   "cell_type": "code",
   "execution_count": 180,
   "metadata": {
    "colab": {
     "base_uri": "https://localhost:8080/",
     "height": 68
    },
    "colab_type": "code",
    "id": "D6n_I1caxN0B",
    "outputId": "1dd604fa-ee6b-49c9-e418-2a50a654c6d0"
   },
   "outputs": [
    {
     "name": "stdout",
     "output_type": "stream",
     "text": [
      "Collecting sklearn.cross_validation\n"
     ]
    },
    {
     "name": "stderr",
     "output_type": "stream",
     "text": [
      "  Could not find a version that satisfies the requirement sklearn.cross_validation (from versions: )\n",
      "No matching distribution found for sklearn.cross_validation\n",
      "You are using pip version 18.1, however version 19.0.3 is available.\n",
      "You should consider upgrading via the 'python -m pip install --upgrade pip' command.\n"
     ]
    }
   ],
   "source": [
    "!pip install sklearn.cross_validation\n"
   ]
  },
  {
   "cell_type": "code",
   "execution_count": 183,
   "metadata": {
    "colab": {},
    "colab_type": "code",
    "id": "7c63FezCuvH_"
   },
   "outputs": [],
   "source": [
    "import pandas as pd\n",
    "import numpy as np\n",
    "from sklearn import preprocessing\n",
    "import matplotlib.pyplot as plt \n",
    "plt.rc(\"font\", size=14)\n",
    "from sklearn.linear_model import LogisticRegression\n",
    "from sklearn.model_selection import train_test_split\n",
    "import seaborn as sns\n",
    "sns.set(style=\"white\")\n",
    "sns.set(style=\"whitegrid\", color_codes=True)"
   ]
  },
  {
   "cell_type": "code",
   "execution_count": 184,
   "metadata": {
    "colab": {},
    "colab_type": "code",
    "id": "5HKKA7j4yCFN"
   },
   "outputs": [],
   "source": [
    "X_train,X_test,y_train,y_test=train_test_split(X,y,test_size=0.3)"
   ]
  },
  {
   "cell_type": "code",
   "execution_count": 185,
   "metadata": {
    "colab": {},
    "colab_type": "code",
    "id": "SogO0zH0yCvV"
   },
   "outputs": [],
   "source": [
    "logmodel = LogisticRegression()"
   ]
  },
  {
   "cell_type": "code",
   "execution_count": 186,
   "metadata": {
    "colab": {
     "base_uri": "https://localhost:8080/",
     "height": 173
    },
    "colab_type": "code",
    "id": "8eKSclbTyDNk",
    "outputId": "4b9f467e-1f3f-4722-e61a-13e338a01013"
   },
   "outputs": [
    {
     "name": "stderr",
     "output_type": "stream",
     "text": [
      "c:\\users\\hp\\appdata\\local\\programs\\python\\python37\\lib\\site-packages\\sklearn\\linear_model\\logistic.py:433: FutureWarning: Default solver will be changed to 'lbfgs' in 0.22. Specify a solver to silence this warning.\n",
      "  FutureWarning)\n",
      "c:\\users\\hp\\appdata\\local\\programs\\python\\python37\\lib\\site-packages\\sklearn\\linear_model\\logistic.py:460: FutureWarning: Default multi_class will be changed to 'auto' in 0.22. Specify the multi_class option to silence this warning.\n",
      "  \"this warning.\", FutureWarning)\n"
     ]
    },
    {
     "data": {
      "text/plain": [
       "LogisticRegression(C=1.0, class_weight=None, dual=False, fit_intercept=True,\n",
       "          intercept_scaling=1, max_iter=100, multi_class='warn',\n",
       "          n_jobs=None, penalty='l2', random_state=None, solver='warn',\n",
       "          tol=0.0001, verbose=0, warm_start=False)"
      ]
     },
     "execution_count": 186,
     "metadata": {},
     "output_type": "execute_result"
    }
   ],
   "source": [
    "logmodel.fit(X_train,y_train)"
   ]
  },
  {
   "cell_type": "code",
   "execution_count": 187,
   "metadata": {
    "colab": {},
    "colab_type": "code",
    "id": "He1zmAcVzVq3"
   },
   "outputs": [],
   "source": [
    "predictions = logmodel.predict(X_test)"
   ]
  },
  {
   "cell_type": "code",
   "execution_count": 188,
   "metadata": {
    "colab": {},
    "colab_type": "code",
    "id": "ckQA3uz3z15F"
   },
   "outputs": [],
   "source": [
    "from sklearn.metrics import classification_report"
   ]
  },
  {
   "cell_type": "code",
   "execution_count": 189,
   "metadata": {
    "colab": {
     "base_uri": "https://localhost:8080/",
     "height": 326
    },
    "colab_type": "code",
    "id": "hnGD8qMFzWbC",
    "outputId": "940aeee8-9f60-4361-fe66-b8d8bf2a70c2"
   },
   "outputs": [
    {
     "name": "stdout",
     "output_type": "stream",
     "text": [
      "                   precision    recall  f1-score   support\n",
      "\n",
      "          Analyst       0.00      0.00      0.00        12\n",
      "       Consultant       0.33      0.33      0.33        15\n",
      "         Designer       0.00      0.00      0.00        16\n",
      "          Manager       0.17      0.05      0.08        19\n",
      "            Sales       0.18      0.54      0.27        13\n",
      "Software Engineer       0.00      0.00      0.00        19\n",
      "Technical Support       0.12      0.11      0.12         9\n",
      "           Tester       0.29      0.65      0.40        17\n",
      "\n",
      "        micro avg       0.21      0.21      0.21       120\n",
      "        macro avg       0.14      0.21      0.15       120\n",
      "     weighted avg       0.14      0.21      0.15       120\n",
      "\n"
     ]
    }
   ],
   "source": [
    "print(classification_report(y_test,predictions))"
   ]
  },
  {
   "cell_type": "code",
   "execution_count": 190,
   "metadata": {
    "colab": {},
    "colab_type": "code",
    "id": "qA_4M8hR0AoQ"
   },
   "outputs": [],
   "source": [
    "from sklearn.metrics import confusion_matrix"
   ]
  },
  {
   "cell_type": "code",
   "execution_count": 191,
   "metadata": {
    "colab": {
     "base_uri": "https://localhost:8080/",
     "height": 153
    },
    "colab_type": "code",
    "id": "kkV4SqPE0NP6",
    "outputId": "96a48aa6-24c3-4967-df8e-f9c4e2f6b8d6"
   },
   "outputs": [
    {
     "data": {
      "text/plain": [
       "array([[ 0,  1,  1,  1,  2,  0,  1,  6],\n",
       "       [ 1,  5,  0,  0,  6,  2,  0,  1],\n",
       "       [ 2,  2,  0,  1,  7,  1,  0,  3],\n",
       "       [ 1,  1,  0,  1, 10,  1,  1,  4],\n",
       "       [ 0,  2,  0,  0,  7,  0,  1,  3],\n",
       "       [ 2,  4,  0,  1,  4,  0,  0,  8],\n",
       "       [ 1,  0,  1,  2,  2,  0,  1,  2],\n",
       "       [ 1,  0,  1,  0,  0,  0,  4, 11]], dtype=int64)"
      ]
     },
     "execution_count": 191,
     "metadata": {},
     "output_type": "execute_result"
    }
   ],
   "source": [
    "confusion_matrix(y_test,predictions)"
   ]
  },
  {
   "cell_type": "code",
   "execution_count": 192,
   "metadata": {
    "colab": {
     "base_uri": "https://localhost:8080/",
     "height": 34
    },
    "colab_type": "code",
    "id": "xSRz9l9Q0y5y",
    "outputId": "cb3f06ff-1079-429a-ff5f-11088155da39"
   },
   "outputs": [
    {
     "name": "stdout",
     "output_type": "stream",
     "text": [
      "Accuracy of logistic regression classifier on test set: 0.21\n"
     ]
    }
   ],
   "source": [
    "\n",
    "print('Accuracy of logistic regression classifier on test set: {:.2f}'.format(logmodel.score(X_test, y_test)))"
   ]
  },
  {
   "cell_type": "code",
   "execution_count": 212,
   "metadata": {},
   "outputs": [
    {
     "data": {
      "text/html": [
       "<div>\n",
       "<style scoped>\n",
       "    .dataframe tbody tr th:only-of-type {\n",
       "        vertical-align: middle;\n",
       "    }\n",
       "\n",
       "    .dataframe tbody tr th {\n",
       "        vertical-align: top;\n",
       "    }\n",
       "\n",
       "    .dataframe thead th {\n",
       "        text-align: right;\n",
       "    }\n",
       "</style>\n",
       "<table border=\"1\" class=\"dataframe\">\n",
       "  <thead>\n",
       "    <tr style=\"text-align: right;\">\n",
       "      <th></th>\n",
       "      <th>0</th>\n",
       "      <th>1</th>\n",
       "      <th>2</th>\n",
       "      <th>3</th>\n",
       "      <th>4</th>\n",
       "      <th>5</th>\n",
       "      <th>6</th>\n",
       "      <th>7</th>\n",
       "      <th>8</th>\n",
       "      <th>9</th>\n",
       "      <th>10</th>\n",
       "      <th>11</th>\n",
       "      <th>12</th>\n",
       "      <th>13</th>\n",
       "      <th>14</th>\n",
       "      <th>15</th>\n",
       "      <th>16</th>\n",
       "    </tr>\n",
       "  </thead>\n",
       "  <tbody>\n",
       "    <tr>\n",
       "      <th>0</th>\n",
       "      <td>0</td>\n",
       "      <td>1</td>\n",
       "      <td>2</td>\n",
       "      <td>3</td>\n",
       "      <td>2</td>\n",
       "      <td>1</td>\n",
       "      <td>2</td>\n",
       "      <td>3</td>\n",
       "      <td>1</td>\n",
       "      <td>2</td>\n",
       "      <td>3</td>\n",
       "      <td>1</td>\n",
       "      <td>0</td>\n",
       "      <td>2</td>\n",
       "      <td>1</td>\n",
       "      <td>0</td>\n",
       "      <td>1</td>\n",
       "    </tr>\n",
       "  </tbody>\n",
       "</table>\n",
       "</div>"
      ],
      "text/plain": [
       "   0   1   2   3   4   5   6   7   8   9   10  11  12  13  14  15  16\n",
       "0   0   1   2   3   2   1   2   3   1   2   3   1   0   2   1   0   1"
      ]
     },
     "execution_count": 212,
     "metadata": {},
     "output_type": "execute_result"
    }
   ],
   "source": [
    "##Testing Purpose\n",
    "\n",
    "tester=[[0,1,2,3,2,1,2,3,1,2,3,1,0,2,1,0,1]]\n",
    "df=pd.DataFrame(tester)\n",
    "df"
   ]
  },
  {
   "cell_type": "code",
   "execution_count": 214,
   "metadata": {},
   "outputs": [
    {
     "data": {
      "text/plain": [
       "array(['Designer'], dtype=object)"
      ]
     },
     "execution_count": 214,
     "metadata": {},
     "output_type": "execute_result"
    }
   ],
   "source": [
    "test=logmodel.predict(df)\n",
    "test"
   ]
  },
  {
   "cell_type": "code",
   "execution_count": null,
   "metadata": {},
   "outputs": [],
   "source": []
  },
  {
   "cell_type": "code",
   "execution_count": 70,
   "metadata": {},
   "outputs": [],
   "source": [
    "rec=pd.read_csv(\"recruiter_info.csv\",sep=';')\n",
    "std=pd.read_csv(\"student_info.csv\",sep=';')"
   ]
  },
  {
   "cell_type": "code",
   "execution_count": 71,
   "metadata": {},
   "outputs": [
    {
     "data": {
      "text/html": [
       "<div>\n",
       "<style scoped>\n",
       "    .dataframe tbody tr th:only-of-type {\n",
       "        vertical-align: middle;\n",
       "    }\n",
       "\n",
       "    .dataframe tbody tr th {\n",
       "        vertical-align: top;\n",
       "    }\n",
       "\n",
       "    .dataframe thead th {\n",
       "        text-align: right;\n",
       "    }\n",
       "</style>\n",
       "<table border=\"1\" class=\"dataframe\">\n",
       "  <thead>\n",
       "    <tr style=\"text-align: right;\">\n",
       "      <th></th>\n",
       "      <th>company_location</th>\n",
       "      <th>recruiter_company</th>\n",
       "      <th>recruiter_email</th>\n",
       "      <th>required_skills</th>\n",
       "      <th>required_age</th>\n",
       "      <th>required_experience</th>\n",
       "      <th>required_role</th>\n",
       "      <th>required_educational_qualification</th>\n",
       "      <th>required_gender</th>\n",
       "      <th>recruiter_password</th>\n",
       "      <th>required_number_of_candidates</th>\n",
       "    </tr>\n",
       "  </thead>\n",
       "  <tbody>\n",
       "    <tr>\n",
       "      <th>0</th>\n",
       "      <td>Banglore</td>\n",
       "      <td>Google</td>\n",
       "      <td>google@gmail.com</td>\n",
       "      <td>ML</td>\n",
       "      <td>30</td>\n",
       "      <td>3</td>\n",
       "      <td>Engineer</td>\n",
       "      <td>B.Tech</td>\n",
       "      <td>0</td>\n",
       "      <td>steve123</td>\n",
       "      <td>5</td>\n",
       "    </tr>\n",
       "    <tr>\n",
       "      <th>1</th>\n",
       "      <td>Mumbai</td>\n",
       "      <td>Microsoft</td>\n",
       "      <td>msn@hotmail.com</td>\n",
       "      <td>c++,sales</td>\n",
       "      <td>32</td>\n",
       "      <td>5</td>\n",
       "      <td>Marketing</td>\n",
       "      <td>MBA</td>\n",
       "      <td>1</td>\n",
       "      <td>hotmail12</td>\n",
       "      <td>10</td>\n",
       "    </tr>\n",
       "    <tr>\n",
       "      <th>2</th>\n",
       "      <td>Banglore</td>\n",
       "      <td>TCS</td>\n",
       "      <td>campuscommune@gmail.com</td>\n",
       "      <td>c</td>\n",
       "      <td>21</td>\n",
       "      <td>0</td>\n",
       "      <td>Engineer</td>\n",
       "      <td>M.Tech</td>\n",
       "      <td>0</td>\n",
       "      <td>tcs124</td>\n",
       "      <td>15</td>\n",
       "    </tr>\n",
       "    <tr>\n",
       "      <th>3</th>\n",
       "      <td>Nagpur</td>\n",
       "      <td>LTI</td>\n",
       "      <td>larsenturbo@gmail.com</td>\n",
       "      <td>python,Photoshop</td>\n",
       "      <td>30</td>\n",
       "      <td>2</td>\n",
       "      <td>Designer</td>\n",
       "      <td>B.A</td>\n",
       "      <td>1</td>\n",
       "      <td>art09</td>\n",
       "      <td>3</td>\n",
       "    </tr>\n",
       "    <tr>\n",
       "      <th>4</th>\n",
       "      <td>Chennai</td>\n",
       "      <td>Axis Bank</td>\n",
       "      <td>axis@hotmail.com</td>\n",
       "      <td>hadoop,java,c</td>\n",
       "      <td>30</td>\n",
       "      <td>6</td>\n",
       "      <td>Technical Support</td>\n",
       "      <td>B.Tech</td>\n",
       "      <td>1</td>\n",
       "      <td>axis908</td>\n",
       "      <td>17</td>\n",
       "    </tr>\n",
       "  </tbody>\n",
       "</table>\n",
       "</div>"
      ],
      "text/plain": [
       "  company_location recruiter_company          recruiter_email  \\\n",
       "0         Banglore            Google         google@gmail.com   \n",
       "1           Mumbai         Microsoft          msn@hotmail.com   \n",
       "2         Banglore               TCS  campuscommune@gmail.com   \n",
       "3           Nagpur               LTI    larsenturbo@gmail.com   \n",
       "4          Chennai         Axis Bank         axis@hotmail.com   \n",
       "\n",
       "    required_skills  required_age  required_experience      required_role  \\\n",
       "0                ML            30                    3           Engineer   \n",
       "1         c++,sales            32                    5          Marketing   \n",
       "2                 c            21                    0           Engineer   \n",
       "3  python,Photoshop            30                    2           Designer   \n",
       "4     hadoop,java,c            30                    6  Technical Support   \n",
       "\n",
       "  required_educational_qualification  required_gender recruiter_password  \\\n",
       "0                             B.Tech                0           steve123   \n",
       "1                                MBA                1          hotmail12   \n",
       "2                             M.Tech                0             tcs124   \n",
       "3                                B.A                1              art09   \n",
       "4                             B.Tech                1            axis908   \n",
       "\n",
       "   required_number_of_candidates  \n",
       "0                              5  \n",
       "1                             10  \n",
       "2                             15  \n",
       "3                              3  \n",
       "4                             17  "
      ]
     },
     "execution_count": 71,
     "metadata": {},
     "output_type": "execute_result"
    }
   ],
   "source": [
    "rec.head(5)"
   ]
  },
  {
   "cell_type": "code",
   "execution_count": 72,
   "metadata": {},
   "outputs": [
    {
     "data": {
      "text/html": [
       "<div>\n",
       "<style scoped>\n",
       "    .dataframe tbody tr th:only-of-type {\n",
       "        vertical-align: middle;\n",
       "    }\n",
       "\n",
       "    .dataframe tbody tr th {\n",
       "        vertical-align: top;\n",
       "    }\n",
       "\n",
       "    .dataframe thead th {\n",
       "        text-align: right;\n",
       "    }\n",
       "</style>\n",
       "<table border=\"1\" class=\"dataframe\">\n",
       "  <thead>\n",
       "    <tr style=\"text-align: right;\">\n",
       "      <th></th>\n",
       "      <th>stud_id</th>\n",
       "      <th>stud_name</th>\n",
       "      <th>stud_email</th>\n",
       "      <th>stud_address</th>\n",
       "      <th>student_age</th>\n",
       "      <th>experience</th>\n",
       "      <th>skills</th>\n",
       "      <th>previous_position</th>\n",
       "      <th>education_qualification</th>\n",
       "      <th>gender</th>\n",
       "      <th>sector</th>\n",
       "      <th>area_of _interest</th>\n",
       "      <th>password</th>\n",
       "    </tr>\n",
       "  </thead>\n",
       "  <tbody>\n",
       "    <tr>\n",
       "      <th>0</th>\n",
       "      <td>6</td>\n",
       "      <td>Sheetal Bhosale</td>\n",
       "      <td>sheetal.bhosale@gmail.com</td>\n",
       "      <td>Tamil Nadu</td>\n",
       "      <td>30</td>\n",
       "      <td>6</td>\n",
       "      <td>Sales</td>\n",
       "      <td>Manager</td>\n",
       "      <td>B.Tech</td>\n",
       "      <td>1</td>\n",
       "      <td>Marketing</td>\n",
       "      <td>sales</td>\n",
       "      <td>sheetal@123</td>\n",
       "    </tr>\n",
       "    <tr>\n",
       "      <th>1</th>\n",
       "      <td>9</td>\n",
       "      <td>Pranshu Diwan</td>\n",
       "      <td>psd@gmail.com</td>\n",
       "      <td>Sikkim</td>\n",
       "      <td>26</td>\n",
       "      <td>7</td>\n",
       "      <td>ML</td>\n",
       "      <td>Engineer</td>\n",
       "      <td>M.S</td>\n",
       "      <td>0</td>\n",
       "      <td>Education</td>\n",
       "      <td>Sales</td>\n",
       "      <td>psd@890</td>\n",
       "    </tr>\n",
       "    <tr>\n",
       "      <th>2</th>\n",
       "      <td>0</td>\n",
       "      <td>Habib Shaikh</td>\n",
       "      <td>Habib.shaikh@gmail.com</td>\n",
       "      <td>Mumbai</td>\n",
       "      <td>27</td>\n",
       "      <td>5</td>\n",
       "      <td>html</td>\n",
       "      <td>Manager</td>\n",
       "      <td>M.Tech</td>\n",
       "      <td>0</td>\n",
       "      <td>Bank</td>\n",
       "      <td>Gaming</td>\n",
       "      <td>habib123</td>\n",
       "    </tr>\n",
       "    <tr>\n",
       "      <th>3</th>\n",
       "      <td>2</td>\n",
       "      <td>Arghya Chell</td>\n",
       "      <td>fishrocks@gmail.com</td>\n",
       "      <td>Kolkata</td>\n",
       "      <td>36</td>\n",
       "      <td>15</td>\n",
       "      <td>unity</td>\n",
       "      <td>software engineer</td>\n",
       "      <td>P.H.D</td>\n",
       "      <td>0</td>\n",
       "      <td>Food</td>\n",
       "      <td>Food</td>\n",
       "      <td>anisha12</td>\n",
       "    </tr>\n",
       "    <tr>\n",
       "      <th>4</th>\n",
       "      <td>5</td>\n",
       "      <td>Sharvari Sonak</td>\n",
       "      <td>sharvaridcr@gmail.com</td>\n",
       "      <td>Gujarat</td>\n",
       "      <td>25</td>\n",
       "      <td>3</td>\n",
       "      <td>Management</td>\n",
       "      <td>Marketing Lead</td>\n",
       "      <td>B.Tech</td>\n",
       "      <td>1</td>\n",
       "      <td>Finance</td>\n",
       "      <td>Education</td>\n",
       "      <td>sharu@123</td>\n",
       "    </tr>\n",
       "    <tr>\n",
       "      <th>5</th>\n",
       "      <td>8</td>\n",
       "      <td>Rishabh Mehra</td>\n",
       "      <td>rishabhmehra5@gmail.com</td>\n",
       "      <td>Delhi</td>\n",
       "      <td>32</td>\n",
       "      <td>9</td>\n",
       "      <td>Python</td>\n",
       "      <td>Engineer</td>\n",
       "      <td>M.Tech</td>\n",
       "      <td>1</td>\n",
       "      <td>Marketing</td>\n",
       "      <td>Sales</td>\n",
       "      <td>rkm@123</td>\n",
       "    </tr>\n",
       "    <tr>\n",
       "      <th>6</th>\n",
       "      <td>3</td>\n",
       "      <td>Mrunal Ghadge</td>\n",
       "      <td>mg@gmail.com</td>\n",
       "      <td>Chennai</td>\n",
       "      <td>28</td>\n",
       "      <td>7</td>\n",
       "      <td>Excel</td>\n",
       "      <td>Analyst</td>\n",
       "      <td>M.S</td>\n",
       "      <td>1</td>\n",
       "      <td>Marketing</td>\n",
       "      <td>Marketing</td>\n",
       "      <td>mrunal@123</td>\n",
       "    </tr>\n",
       "    <tr>\n",
       "      <th>7</th>\n",
       "      <td>4</td>\n",
       "      <td>Sagar Mhatre</td>\n",
       "      <td>sagar12@gmail.com</td>\n",
       "      <td>Banglore</td>\n",
       "      <td>29</td>\n",
       "      <td>10</td>\n",
       "      <td>Photoshop</td>\n",
       "      <td>Designer</td>\n",
       "      <td>B.A</td>\n",
       "      <td>0</td>\n",
       "      <td>Education</td>\n",
       "      <td>graphics</td>\n",
       "      <td>sagar12</td>\n",
       "    </tr>\n",
       "  </tbody>\n",
       "</table>\n",
       "</div>"
      ],
      "text/plain": [
       "   stud_id        stud_name                 stud_email stud_address  \\\n",
       "0        6  Sheetal Bhosale  sheetal.bhosale@gmail.com   Tamil Nadu   \n",
       "1        9    Pranshu Diwan              psd@gmail.com       Sikkim   \n",
       "2        0     Habib Shaikh     Habib.shaikh@gmail.com       Mumbai   \n",
       "3        2     Arghya Chell        fishrocks@gmail.com      Kolkata   \n",
       "4        5   Sharvari Sonak      sharvaridcr@gmail.com      Gujarat   \n",
       "5        8    Rishabh Mehra    rishabhmehra5@gmail.com        Delhi   \n",
       "6        3    Mrunal Ghadge               mg@gmail.com      Chennai   \n",
       "7        4     Sagar Mhatre          sagar12@gmail.com     Banglore   \n",
       "\n",
       "   student_age  experience      skills  previous_position  \\\n",
       "0           30           6       Sales            Manager   \n",
       "1           26           7          ML           Engineer   \n",
       "2           27           5        html            Manager   \n",
       "3           36          15       unity  software engineer   \n",
       "4           25           3  Management     Marketing Lead   \n",
       "5           32           9      Python           Engineer   \n",
       "6           28           7       Excel            Analyst   \n",
       "7           29          10   Photoshop           Designer   \n",
       "\n",
       "  education_qualification  gender     sector area_of _interest     password  \n",
       "0                  B.Tech       1  Marketing             sales  sheetal@123  \n",
       "1                     M.S       0  Education             Sales      psd@890  \n",
       "2                  M.Tech       0       Bank            Gaming     habib123  \n",
       "3                   P.H.D       0       Food              Food     anisha12  \n",
       "4                  B.Tech       1    Finance         Education    sharu@123  \n",
       "5                  M.Tech       1  Marketing             Sales      rkm@123  \n",
       "6                     M.S       1  Marketing         Marketing   mrunal@123  \n",
       "7                     B.A       0  Education          graphics      sagar12  "
      ]
     },
     "execution_count": 72,
     "metadata": {},
     "output_type": "execute_result"
    }
   ],
   "source": [
    "std.head(10)"
   ]
  },
  {
   "cell_type": "code",
   "execution_count": 73,
   "metadata": {},
   "outputs": [],
   "source": [
    "stud=std.loc[std['stud_id']==9].reindex()"
   ]
  },
  {
   "cell_type": "code",
   "execution_count": 74,
   "metadata": {},
   "outputs": [
    {
     "data": {
      "text/html": [
       "<div>\n",
       "<style scoped>\n",
       "    .dataframe tbody tr th:only-of-type {\n",
       "        vertical-align: middle;\n",
       "    }\n",
       "\n",
       "    .dataframe tbody tr th {\n",
       "        vertical-align: top;\n",
       "    }\n",
       "\n",
       "    .dataframe thead th {\n",
       "        text-align: right;\n",
       "    }\n",
       "</style>\n",
       "<table border=\"1\" class=\"dataframe\">\n",
       "  <thead>\n",
       "    <tr style=\"text-align: right;\">\n",
       "      <th></th>\n",
       "      <th>stud_id</th>\n",
       "      <th>stud_name</th>\n",
       "      <th>stud_email</th>\n",
       "      <th>stud_address</th>\n",
       "      <th>student_age</th>\n",
       "      <th>experience</th>\n",
       "      <th>skills</th>\n",
       "      <th>previous_position</th>\n",
       "      <th>education_qualification</th>\n",
       "      <th>gender</th>\n",
       "      <th>sector</th>\n",
       "      <th>area_of _interest</th>\n",
       "      <th>password</th>\n",
       "    </tr>\n",
       "  </thead>\n",
       "  <tbody>\n",
       "    <tr>\n",
       "      <th>1</th>\n",
       "      <td>9</td>\n",
       "      <td>Pranshu Diwan</td>\n",
       "      <td>psd@gmail.com</td>\n",
       "      <td>Sikkim</td>\n",
       "      <td>26</td>\n",
       "      <td>7</td>\n",
       "      <td>ML</td>\n",
       "      <td>Engineer</td>\n",
       "      <td>M.S</td>\n",
       "      <td>0</td>\n",
       "      <td>Education</td>\n",
       "      <td>Sales</td>\n",
       "      <td>psd@890</td>\n",
       "    </tr>\n",
       "  </tbody>\n",
       "</table>\n",
       "</div>"
      ],
      "text/plain": [
       "   stud_id      stud_name     stud_email stud_address  student_age  \\\n",
       "1        9  Pranshu Diwan  psd@gmail.com       Sikkim           26   \n",
       "\n",
       "   experience skills previous_position education_qualification  gender  \\\n",
       "1           7     ML          Engineer                     M.S       0   \n",
       "\n",
       "      sector area_of _interest password  \n",
       "1  Education             Sales  psd@890  "
      ]
     },
     "execution_count": 74,
     "metadata": {},
     "output_type": "execute_result"
    }
   ],
   "source": [
    "stud"
   ]
  },
  {
   "cell_type": "code",
   "execution_count": 75,
   "metadata": {},
   "outputs": [],
   "source": [
    "comp=rec.loc[rec['recruiter_company']=='Google']"
   ]
  },
  {
   "cell_type": "code",
   "execution_count": 76,
   "metadata": {},
   "outputs": [
    {
     "data": {
      "text/html": [
       "<div>\n",
       "<style scoped>\n",
       "    .dataframe tbody tr th:only-of-type {\n",
       "        vertical-align: middle;\n",
       "    }\n",
       "\n",
       "    .dataframe tbody tr th {\n",
       "        vertical-align: top;\n",
       "    }\n",
       "\n",
       "    .dataframe thead th {\n",
       "        text-align: right;\n",
       "    }\n",
       "</style>\n",
       "<table border=\"1\" class=\"dataframe\">\n",
       "  <thead>\n",
       "    <tr style=\"text-align: right;\">\n",
       "      <th></th>\n",
       "      <th>company_location</th>\n",
       "      <th>recruiter_company</th>\n",
       "      <th>recruiter_email</th>\n",
       "      <th>required_skills</th>\n",
       "      <th>required_age</th>\n",
       "      <th>required_experience</th>\n",
       "      <th>required_role</th>\n",
       "      <th>required_educational_qualification</th>\n",
       "      <th>required_gender</th>\n",
       "      <th>recruiter_password</th>\n",
       "      <th>required_number_of_candidates</th>\n",
       "    </tr>\n",
       "  </thead>\n",
       "  <tbody>\n",
       "    <tr>\n",
       "      <th>0</th>\n",
       "      <td>Banglore</td>\n",
       "      <td>Google</td>\n",
       "      <td>google@gmail.com</td>\n",
       "      <td>ML</td>\n",
       "      <td>30</td>\n",
       "      <td>3</td>\n",
       "      <td>Engineer</td>\n",
       "      <td>B.Tech</td>\n",
       "      <td>0</td>\n",
       "      <td>steve123</td>\n",
       "      <td>5</td>\n",
       "    </tr>\n",
       "  </tbody>\n",
       "</table>\n",
       "</div>"
      ],
      "text/plain": [
       "  company_location recruiter_company   recruiter_email required_skills  \\\n",
       "0         Banglore            Google  google@gmail.com              ML   \n",
       "\n",
       "   required_age  required_experience required_role  \\\n",
       "0            30                    3      Engineer   \n",
       "\n",
       "  required_educational_qualification  required_gender recruiter_password  \\\n",
       "0                             B.Tech                0           steve123   \n",
       "\n",
       "   required_number_of_candidates  \n",
       "0                              5  "
      ]
     },
     "execution_count": 76,
     "metadata": {},
     "output_type": "execute_result"
    }
   ],
   "source": [
    "comp"
   ]
  },
  {
   "cell_type": "code",
   "execution_count": 77,
   "metadata": {},
   "outputs": [
    {
     "data": {
      "text/plain": [
       "str"
      ]
     },
     "execution_count": 77,
     "metadata": {},
     "output_type": "execute_result"
    }
   ],
   "source": [
    "#abs(int(comp.required_experience)-int(stud.experience))/5\n",
    "##if str(stud.skills) == str(comp.required_skills):\n",
    "##    print(\"Hello Friends\")\n",
    "##else:\n",
    "##    print(\"Chai Peelo\")\n",
    "type(stud.skills.values[0])"
   ]
  },
  {
   "cell_type": "code",
   "execution_count": 100,
   "metadata": {},
   "outputs": [
    {
     "name": "stdout",
     "output_type": "stream",
     "text": [
      "1.0\n"
     ]
    }
   ],
   "source": [
    "lemmatizer=WordNetLemmatizer()\n",
    "ps=PorterStemmer()\n",
    "b=(lemmatizer.lemmatize('Salesman'))\n",
    "a=(ps.stem('salesman'))\n",
    "a=a+'.n.01'\n",
    "b=b+'.n.01'\n",
    "w1=wordnet.synset(a)\n",
    "w2=wordnet.synset(b)\n",
    "print(w1.wup_similarity(w2))"
   ]
  },
  {
   "cell_type": "code",
   "execution_count": 106,
   "metadata": {},
   "outputs": [
    {
     "data": {
      "text/plain": [
       "0"
      ]
     },
     "execution_count": 106,
     "metadata": {},
     "output_type": "execute_result"
    }
   ],
   "source": [
    "education={\n",
    "        \"B.Tech\":0,\n",
    "        \"M.Tech\":1,\n",
    "        \"MBA\":2,\n",
    "        \"M.S\":3,\n",
    "        \"P.H.D\":4\n",
    "    }\n",
    "education[comp.required_educational_qualification[0]]\n",
    "\n"
   ]
  },
  {
   "cell_type": "code",
   "execution_count": 101,
   "metadata": {},
   "outputs": [],
   "source": [
    "def gen_score(stud_id,company_name):\n",
    "    student=std.loc[std['stud_id']==stud_id]\n",
    "    company= rec.loc[rec['recruiter_company']==company_name]\n",
    "    aoi_st=student.area_of_intrest\n",
    "    role_cmp=company.required_role\n",
    "    aoi_std=ps.stem(aoi_st)+'.n.01'\n",
    "    role_cmp=ps.stem(role_cmp)+'.n.01'\n",
    "    aoi_st=wordnet.synset(aoi_st)\n",
    "    role_cmp=wordnet.synset(role_cmp)\n",
    "    if int(student.experience)>int(company.required_experience):\n",
    "        exp_score=abs(int(student.experience)-int(company.required_experience))/5\n",
    "    skills=list()\n",
    "    skills=company.required_skills.values[0].lower().split(',')\n",
    "    if student.skills.values[0] == company.required_skills.values[0]:\n",
    "        skill_score=1/skills.length()\n",
    "    aoi_score=aoi_st.wup_similarity(role_cmp)\n",
    "    \n",
    "    education={\n",
    "        \"B.Tech\":1,\n",
    "        \"M.Tech\":2,\n",
    "        \"MBA\":3,\n",
    "        \"M.S\":4\n",
    "        \"P.H.D\":5\n",
    "    }\n",
    "    \n",
    "    if education[student.education_qualification[0]]<education[company.required_educational_qualification]:\n",
    "        edu_score=0\n",
    "    else:\n",
    "        edu_score=0.5+education[student.education_qualification[0]]/10\n",
    "        \n",
    "    "
   ]
  },
  {
   "cell_type": "code",
   "execution_count": null,
   "metadata": {},
   "outputs": [],
   "source": []
  }
 ],
 "metadata": {
  "colab": {
   "name": "Untitled.ipynb",
   "provenance": [],
   "version": "0.3.2"
  },
  "kernelspec": {
   "display_name": "Python 3",
   "language": "python",
   "name": "python3"
  },
  "language_info": {
   "codemirror_mode": {
    "name": "ipython",
    "version": 3
   },
   "file_extension": ".py",
   "mimetype": "text/x-python",
   "name": "python",
   "nbconvert_exporter": "python",
   "pygments_lexer": "ipython3",
   "version": "3.7.1"
  }
 },
 "nbformat": 4,
 "nbformat_minor": 1
}
